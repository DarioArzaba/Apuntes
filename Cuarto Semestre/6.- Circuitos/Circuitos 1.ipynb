{
 "cells": [
  {
   "cell_type": "code",
   "execution_count": null,
   "metadata": {},
   "outputs": [],
   "source": [
    "import SchemDraw as schem\n",
    "import SchemDraw.elements as e"
   ]
  },
  {
   "cell_type": "markdown",
   "metadata": {},
   "source": [
    "## Introducción"
   ]
  },
  {
   "cell_type": "markdown",
   "metadata": {},
   "source": [
    "### Carga"
   ]
  },
  {
   "cell_type": "markdown",
   "metadata": {},
   "source": [
    "Ademas de los circuitos lineales existen circuitos no lineales, sin embargo son modelos que permiten describir y predecir el comportamiento general de un sistema electrico. Se debide en:\n",
    "\n",
    "- Analisis en Corriente Directa (DC).\n",
    "- Analisis Transitorio\n",
    "- Análisis en Corriente Alterna (AC o Fasorial).\n",
    "- Analisis de la respuesta en frecuencia.\n",
    "\n",
    "Algunas herramientas elementales para analizar un circuito resistivo simple son:\n",
    "\n",
    "- Analisis nodal.\n",
    "- Analisis de malla.\n",
    "- Analisis de superposicion.\n",
    "- Transformacion de fuente.\n",
    "- Teorema de Thévenin\n",
    "- Teorema de Norton.\n",
    "\n",
    "La **carga** es un fenomeno fisico en donde la diferencia de electrones entre dos cuerpos ocaciona que los electrones busquen el equilibrio generando una corriente de electrones. La carga puede ser positiva (menos electrones) o negativa (más electrones), en raras ocaciones corresponde a un flujo de protones, es más facil el movimiento de electrones.\n",
    "\n",
    "La **corriente** es la carga en movimiento. La unidad de carga es el **Coulomb**, definida en terminos del **Ampere** como la carga total (Q) que pasa mediante una corriente de 1 Ampere dentro de la seccion transversal de un alambre en un segundo $1A = \\frac{1C}{1s}$.. Un electron tiene entonces una carga de $-1.602\\times10^-19C$. La cantidad instantanea de carga se representa por (q) o (q(t)).\n",
    "\n",
    "La corriente es importante porque su variacion (cantidad de carga transmitida) permite transmitir información. La corriente tiene un valor numerico y una dirección, por tanto se puede considerar como el vector velocidad de la carga que pasa por un punto de referencia, $i(t) = \\frac{dq}{dt} $. La corriente se define en Amperes y puede ser constante (cd), senoidal o alterna (ca), exponencial o senoidal amortiguada. \n",
    "\n",
    "\\begin{gathered}\n",
    "    \\text{Carga Total transferida en intervalo de tiempo}\\\\\n",
    "    i(t) = \\frac{dq}{dt}\\\\\n",
    "    \\int_{t_o}^{t} i(t) dt = \\int_{t_o}^{t} \\frac{q(t)-q(t_o)}{dt} dt\\\\\n",
    "    \\int_{t_o}^{t} i(t) dt = q(t)-q(t_o) \\\\\n",
    "    q(t) = \\int_{t_o}^{t} i(t) dt^{'} + q(t_o)\\\\\n",
    "    \\text{Con corriente constante}\\\\\n",
    "    q(t) = It\\\\\n",
    "    \\text{Maxima carga total transferida en intervalo}\\\\\n",
    "    q^{'}(t) = 0\\\\\n",
    "    \\text{Corriente Promedio en intervalo de tiempo}\\\\\n",
    "    I = \\frac{Q}{dt}\n",
    "\\end{gathered}\n",
    "\n",
    "Todo elemento de un circuito tiene como minimo dos terminales para conectarse otros elementos. Empujar la carga a travez del elemento requiere un gasto de energia o trabajo denominado **tensión** cuya unidad es el Volt equivalente a 1J/C. Es decir que la tensión es el diferencia de potencial entre las terminales, el voltaje puede existir sin suministrar una corriente como en el caso de las baterias."
   ]
  },
  {
   "cell_type": "code",
   "execution_count": 18,
   "metadata": {},
   "outputs": [
    {
     "data": {
      "image/png": "[encoded data removed]",
      "text/plain": [
       "<Figure size 126x46.8 with 1 Axes>"
      ]
     },
     "metadata": {
      "needs_background": "light"
     },
     "output_type": "display_data"
    }
   ],
   "source": [
    "d1 = schem.Drawing()\n",
    "V1 = d1.add(e.SOURCE_V, d=\"left\", label = \"1V = 1J/C\")\n",
    "d1.draw()"
   ]
  },
  {
   "cell_type": "markdown",
   "metadata": {},
   "source": [
    "Por conservación de energia, la energia gastada para mover a la carga de una terminal a otra se expresa en energia electrica, de calor o acustica. Para distinguir entre la energia suministrada al elemento y la que el elemento suministra se elige un signo para la tension entre una terminal y otra.\n",
    "\n",
    "> Si la tension es positiva y la corriente entra por la terminal positiva los signos se conservan. Una tension negativa invierte los signos. Una corriente negativa es como si entrara por la otra terminal.\n",
    "\n",
    "Si se tiene una tension de 1 V, en donde para transmitir 1 C se necesita 1 J entonces decimos que la **potencia** o tasa de transferencia es de 1 Watt. La potencia es proporcional a la corriente y a la tension. $p = vi$. \n",
    "\n",
    "> Si asumimos que un elemento tiene una tension de 5V de A a B, esto significa que se necesitan 5J para cada Coulomb de carga que mueva por el elemento. Si establecemos una corriente de A a B de 2A, esto sigifica que se transmiten 2 Coulomb por segundo, entonces se esta gastando 10 J de energia por segundo, es decir que el objeto absorbe 10 W de potencia automaticamente del elemento que le este inyectando la corriente de 2A."
   ]
  },
  {
   "cell_type": "code",
   "execution_count": 83,
   "metadata": {},
   "outputs": [
    {
     "data": {
      "image/png": "[encoded data removed]",
      "text/plain": [
       "<Figure size 131.94x148.77 with 1 Axes>"
      ]
     },
     "metadata": {
      "needs_background": "light"
     },
     "output_type": "display_data"
    }
   ],
   "source": [
    "d1 = schem.Drawing(unit = 3, fontsize = 14)\n",
    "V1 = d1.add(e.SOURCE, d=\"right\")\n",
    "V1.add_label('+ 10 W', loc='top')\n",
    "d1.add(e.LINE, d='down', label=\"\")\n",
    "d1.add(e.DOT_OPEN)\n",
    "d1.add(e.GAP_LABEL, d='left', label=['--','5V','+'])\n",
    "d1.add(e.DOT_OPEN)\n",
    "L1 = d1.add(e.LINE, d='up')\n",
    "d1.labelI(L1, '2A', top=False)\n",
    "d1.draw()"
   ]
  },
  {
   "cell_type": "markdown",
   "metadata": {},
   "source": [
    "En otras palabras si la corriente y los signos de polaridad de tension se situan de forma que la corriente entre por el extremo positivo hablamos de la potencia absorbida o suministrada del elemento expresada mediante $p = vi$. Ahora si el resutado es negativo el elemento absorbe energia potencial negativa o la genera.\n",
    "\n",
    "> Por convención general se dibujan las flechas de corriente hacia la terminal de tension positiva, sin importar si el elemento esta absorbiendo o suministrando potencia. \n",
    "\n",
    "Un **elemento simple de un circuito** es un modelo matematico para describir un dispositivo electrico de dos terminales que no pude subdividirse en otros dispositivos. Se clasifican de acuero a la relacion entre la corriente y la tensión del elemento. Si la tension entre los extremos es linealmente proporcional a la corriente puede ser un **resistor**, si la tension es proporcional a la derivada de la corriente puede ser una **bobina**, si la tension es proporcional a la integral de la corriente puede ser un **capacitor**.\n",
    "\n",
    "Si la tension o la corriente son independientes y no dependen de la otra se consideran fuentes indepenientes. Existen fuentes especiales que dependen de la tension o corriente de otras partes del circuito denominadas fuentes dependientes como en el uso de **transistores**.\n",
    "\n",
    "> De la potencia podemos inferir la energia. $E = pt$. Por ejemplo una bateria que suministra 6W constantes en 5 minutos (300s) genera una energia de 1.8 kJ. "
   ]
  },
  {
   "cell_type": "markdown",
   "metadata": {
    "heading_collapsed": true
   },
   "source": [
    "### Fuentes independientes"
   ]
  },
  {
   "cell_type": "markdown",
   "metadata": {
    "hidden": true
   },
   "source": [
    "Una **fuente de tension independiente** $v_s$ se caracteriza porque la tensión entre las terminales es independiente de la corriente que pase por el elemento. Se considera una fuente ideal, ya que si nunca cambiara la tensión entre terminales podria suministrar energia infinita.\n",
    "\n",
    "> Por ejemplo la bateria de un auto de 12 V mantendra su tensión relativamente constante mientras la corriente suministrada o entregada no supere algunos amperes. Si la corriente es positiva y fluye hacia afuera de la terminal positiva la bateria generara potencia para los faros, si fluye hacia adentro de la terminal positiva esta cargandose dese un alternador. \n",
    "\n",
    "La toma de corriente doméstica se aproxima a una fuente de tension independiente. Sin embargo cuando conectamos muchos elementos podemos superar la demanda de corriente ocacionando una caida temporal de tensión.\n",
    "\n",
    "\\begin{gathered}\n",
    "    \\text{Tensión de una toma de corriente domestica}\\\\\n",
    "    v_s = 115\\sqrt{2}\\cos(2\\pi60)(t) \\text{ V}\\\\\n",
    "    \\text{Valida para corrientes menores a 20 A}\n",
    "\\end{gathered}\n",
    "\n",
    "Lo más importante de recordar en el caso de las fuentes es que el signo positivo o negativo no representa que la terminal sea positiva con respecto a la otra sino que es una cantidad de Volts más positiva que la otra, aunque ambas sean en realidad negativas. Una fuente de tension independiente con una tension constante se conoce comunmente como una fuente de tension de corriente directa independiente."
   ]
  },
  {
   "cell_type": "code",
   "execution_count": 107,
   "metadata": {
    "hidden": true
   },
   "outputs": [
    {
     "data": {
      "image/png": "[encoded data removed]",
      "text/plain": [
       "<Figure size 363.6x46.8 with 1 Axes>"
      ]
     },
     "metadata": {
      "needs_background": "light"
     },
     "output_type": "display_data"
    }
   ],
   "source": [
    "d1 = schem.Drawing(fontsize = 13)\n",
    "V1 = d1.add(e.SOURCE_V, d=\"right\", reverse=True)\n",
    "V1.add_label('$v_s$', loc='top')\n",
    "V1.add_label('CD', loc='bot')\n",
    "V2 = d1.add(e.BATTERY, d=\"right\")\n",
    "V2.add_label('+  $v_s$  --', loc='top')\n",
    "V2.add_label('Bateria', loc='bot')\n",
    "V3 = d1.add(e.SOURCE_SIN, d=\"right\")\n",
    "V3.add_label('+  $v_s$  --', loc='top')\n",
    "V3.add_label('CA', loc='bot')\n",
    "d1.draw()"
   ]
  },
  {
   "cell_type": "markdown",
   "metadata": {
    "hidden": true
   },
   "source": [
    "Una **fuente de corriente independiente** $i_s$ se caracteriza porque la corriente que pasa a traves del elemento es independiente de la tensión que exista entre sus terminales. Si la corriente es constante la denominamos fuente de corriente de corriente directa independiente, si la corriente varia pero es independiente la denominamos una fuente de corriente de corriente alterna independiente. Esta fuente ideal entrega en teoria una potencia infinita puesto que produce la misma corriente sin importar la tension entre sus terminales.\n",
    "\n",
    "> Generalmente las fuentes de tension independientes suministran su tension o voltaje constante y tienen una corriente casi nula. Un error comun es asumir que las fuentes de corriente independientes suministren su corriente constante y tengan un voltaje nulo, el voltaje en estas fuentes puede variar de gran forma y depende del resto del circuito al que este conectado."
   ]
  },
  {
   "cell_type": "code",
   "execution_count": 112,
   "metadata": {
    "hidden": true
   },
   "outputs": [
    {
     "data": {
      "image/png": "[encoded data removed]",
      "text/plain": [
       "<Figure size 126x46.8 with 1 Axes>"
      ]
     },
     "metadata": {
      "needs_background": "light"
     },
     "output_type": "display_data"
    }
   ],
   "source": [
    "d1 = schem.Drawing(fontsize = 13)\n",
    "V1 = d1.add(e.SOURCE_I, d=\"right\", reverse=True)\n",
    "V1.add_label('$i_s$', loc='top')\n",
    "d1.draw()"
   ]
  },
  {
   "cell_type": "markdown",
   "metadata": {
    "hidden": true
   },
   "source": [
    "Las **fuentes dependientes** o controladas son fuentes ideales donde su voltaje o corriente depende directamente de otro elemento en el circuito. Para distingir entre las fuentes independientes y las dependientes se utilizan diamantes como simbolos. \n",
    "\n",
    "- K es una constante de ajuste adimencional.\n",
    "- g es un factor de ajuste de i/v o A/V\n",
    "- r es un factor de ajuste de v/i o V/A"
   ]
  },
  {
   "cell_type": "code",
   "execution_count": 119,
   "metadata": {
    "hidden": true
   },
   "outputs": [
    {
     "data": {
      "image/png": "[encoded data removed]",
      "text/plain": [
       "<Figure size 482.4x46.8 with 1 Axes>"
      ]
     },
     "metadata": {
      "needs_background": "light"
     },
     "output_type": "display_data"
    }
   ],
   "source": [
    "d1 = schem.Drawing(fontsize = 13)\n",
    "V1 = d1.add(e.SOURCE_CONT_I, d=\"right\", reverse=True)\n",
    "V1.add_label('$Ki_x$', loc='top')\n",
    "V1.add_label('Dep. de I', loc='bot')\n",
    "V2 = d1.add(e.SOURCE_CONT_I, d=\"right\", reverse=True)\n",
    "V2.add_label('$gv_x$', loc='top')\n",
    "V2.add_label('Dep. de V', loc='bot')\n",
    "V3 = d1.add(e.SOURCE_CONT_V, d=\"right\")\n",
    "V3.add_label('$Kv_x$', loc='top')\n",
    "V3.add_label('Dep. de V', loc='bot')\n",
    "V4 = d1.add(e.SOURCE_CONT_V, d=\"right\")\n",
    "V4.add_label('$ri_x$', loc='top')\n",
    "V4.add_label('Dep. de I', loc='bot')\n",
    "d1.draw()"
   ]
  },
  {
   "cell_type": "markdown",
   "metadata": {
    "hidden": true
   },
   "source": [
    "Las fuentes se consideran elementos activos por poder entregar potencia a otros elementos. Sin embargo algunos elementos pasivos realizan lo mismo como los capacitores que almacenan energia y despues la pueden entregar."
   ]
  },
  {
   "cell_type": "markdown",
   "metadata": {
    "hidden": true
   },
   "source": [
    "1. Salen 7A del lado positivo de una i(s) con 8V. La potecia absorbida = -(7A)(+8V) = -56W\n",
    "2. Salen 2A del lado negativo de un elemento con 8V. La potencia absorbida = -(2A)(-8V) = 16W\n",
    "3. Entran 5A del lado negativo del elemento Vx con 12V. La potencia absorbida = +(5A)(-12V) = -60W\n",
    "4. Salen 8A del lado negativo de un elemento con 20V. La potencia absorbida = -(8A)(-20V) = 160W\n",
    "5. Salen (0.25)(Vx) del lado negativo de fuente que Dep. de V. con 20V. = (-0.25A/V)(-12V)(-20V)=-60W\n",
    "\n",
    "La interconección entre dos o mas elementos de circuitos forma una **red electrica**, si la red contiene una trayectoria cerrada tambien es un **circuito electrico**."
   ]
  },
  {
   "cell_type": "markdown",
   "metadata": {
    "heading_collapsed": true
   },
   "source": [
    "### Ley de Ohm"
   ]
  },
  {
   "cell_type": "markdown",
   "metadata": {
    "hidden": true
   },
   "source": [
    "La **resistencia** (lineal) es el elemento pasivo más simple y sus propiedades estan descritas por la ley de Ohm, ideada en 1827 por Georg Simon Ohm y 46 años antes por Henry Cavendish.\n",
    "\n",
    "\\begin{gathered}\n",
    "    v = R(i)\n",
    "\\end{gathered}\n",
    "\n",
    "Esta ley establece que la tensión entre los extremos de un conductor es proporcional a la corriente que fluye por el material, donde la constante de proporcionalidad entre ambos esta dada por R, o la resistencia natural del material que impide que fluya la corriente de electrones. Su unidad es el Ohm $\\Omega = 1\\frac{V}{A}$.\n",
    "\n",
    "Al graficar la resistencia lineal de un material como la relación entre su corriente y su voltaje obtenemos una ecuación lineal que nos dice que al aumentar la corriente o el voltaje aumenta la resistencia. Por lo general la resistencia es positiva aunque se pueden simular resistencias negativas (material ayuda a los electrones a fluir) mediante circuitos especiales.\n",
    "\n",
    "> De nuevo se recuerda que esta resistencia es un ideal. Las resistencias que utilizamos son lineales en intervalos de corriente, tension y potencia determinados. Tambien el mismo material quimico cambia sus propiedades quimicas debido a otros factores como la temperatura.\n",
    "\n",
    "Al igual que otros elementos la potencia que absorbe una resistencia esta dada por $p = v(i)$ pero siempre es positiva, no tienen forma de generar energia, al contrario la disipa. Las resistencias evitan el flujo de electrones mediante la transformacion de la energia administrada (potencia) desde su forma electrica hasta la luz o el calor.\n",
    "\n",
    "\\begin{gathered}\n",
    "    \\text{Formas de calcular potencia absorbida}\\\\\n",
    "    p = v(i) = (i^2)(R)= (v^2)(R)\n",
    "\\end{gathered}"
   ]
  },
  {
   "cell_type": "code",
   "execution_count": 174,
   "metadata": {
    "hidden": true
   },
   "outputs": [
    {
     "data": {
      "image/png": "[encoded data removed]",
      "text/plain": [
       "<Figure size 250.74x27 with 1 Axes>"
      ]
     },
     "metadata": {
      "needs_background": "light"
     },
     "output_type": "display_data"
    }
   ],
   "source": [
    "d1 = schem.Drawing()\n",
    "P1 = d1.add(e.DOT_OPEN)\n",
    "L1 = d1.add(e.LINE, d=\"right\")\n",
    "d1.labelI(L1, 'i', arrowofst=0.2, arrowlen = 1 ,top = True)\n",
    "R1 = d1.add(e.RES, d=\"right\", label=\"+  --\")\n",
    "P2 = d1.add(e.DOT_OPEN, d=\"right\", label=\"\")\n",
    "d1.draw()"
   ]
  },
  {
   "cell_type": "markdown",
   "metadata": {
    "hidden": true
   },
   "source": [
    "La **conductancia** (G) es la proporcion entre corriente y tension $G = \\frac{i}{v} = \\frac{1}{R}$, o el contrario de la resistencia, la cual es una consante. La unidad de conductancia es el Siemens.  $S = \\frac{1A}{V}$. Las ecuaciones de potencia se puden expresar en terminos de la conductancia.\n",
    "\n",
    "\\begin{gathered}\n",
    "    p = v(i) = (v^2)(G) = \\frac{i^2}{G}\n",
    "\\end{gathered}\n",
    "\n",
    "> Un resistor de 2 Ohm tiene una conductancia de 1/2 S y si fluye una corriente de 5 A por el, por la Ley de Ohm presentara una tensión de 10 V en las terminales, finalmente absorbiendo 50 W de potencia.\n",
    "\n",
    "Un **Corto circuito** es un elemento cuya resistencia es de de 0 Ohms. Dada $v = R(i)$ este elemento tiene una tension de 0 V sin importar la corriente que presente. Un **circuito abierto** es un elemento cuya resistencia se aproxima al infinito, de forma analoga la corriente en este caso es 0 A, sin importar la tension del elemento. Recordando que los alambres aunque tienen una pequeña resistencia esta es negligible (0 Ohms) y por tanto en los esquemas se consideran cortos circuitos ideales."
   ]
  },
  {
   "cell_type": "markdown",
   "metadata": {
    "heading_collapsed": true
   },
   "source": [
    "### Calibre de un alambre"
   ]
  },
  {
   "cell_type": "markdown",
   "metadata": {
    "hidden": true
   },
   "source": [
    "Cualquier material, excluyendo a los superconductores, tiene resistencia natural al flujo de corriente. En los modelos generalmente se asume que los alambres de los circuitos son cortos circuitos perfectos con resistencia nula, sin embargo en la realidad si tienen una resistencia propia. \n",
    "\n",
    "La resistencia depende de la **resistividad** del material y la **geometria** del dispositivo. La resistividad &\\rho& es una medida de la facilidad con la que los electrones fluyen por un material. Es el cociente del campo electrico (V/m) entre la densidad de la corriente (A/m^2). Sus unidades son $\\Omega\\times m$. \n",
    "\n",
    "La resistividad depende directamente de la temperatura. En algunos textos, especialmente en quimica, se utiliza su reciproco la **conductividad**, $\\Omega\\times \\sigma$. La resistencia de un alambre se obtiene multiplicando la resistividad por la longitud del alambre entre el area de su seccion transversal.\n",
    "\n",
    "\\begin{gathered}\n",
    "    R = \\rho(\\Omega cm)\\left(\\frac{\\lambda(cm)}{A(cm^2)}\\right)\\\\\n",
    "\\end{gathered}\n",
    "\n",
    "La resistividad se determina empiricamente al elegir el material y aplicar una corriente a una temperatura determinada. La resistencia natural, aunque minima, absorbera potencia y generara calor propio que se puede medir. Los alambres más gruesos tienen una resistencia más baja, absorbiendo una cantidad menor de potencia y disipando el calor con mayor facilidad. \n",
    "\n",
    "En la practica se busca utilizar el alambre con el menor calibre o grosor pero cuya resistencia no afecte el funcionamiento del circuito. El sistema estandar para determinar el grosor de un alambre es el AWG (American Wire Gauge). Los valores AWG entre más pequeños corresponden a un alambre más grande.\n",
    "\n",
    "\n"
   ]
  },
  {
   "cell_type": "markdown",
   "metadata": {},
   "source": [
    "## Leyes de tension y corriente"
   ]
  },
  {
   "cell_type": "markdown",
   "metadata": {},
   "source": []
  },
  {
   "cell_type": "markdown",
   "metadata": {},
   "source": []
  },
  {
   "cell_type": "markdown",
   "metadata": {},
   "source": []
  },
  {
   "cell_type": "markdown",
   "metadata": {},
   "source": []
  },
  {
   "cell_type": "markdown",
   "metadata": {},
   "source": []
  },
  {
   "cell_type": "markdown",
   "metadata": {},
   "source": []
  },
  {
   "cell_type": "markdown",
   "metadata": {},
   "source": []
  }
 ],
 "metadata": {
  "kernelspec": {
   "display_name": "Python 3",
   "language": "python",
   "name": "python3"
  },
  "language_info": {
   "codemirror_mode": {
    "name": "ipython",
    "version": 3
   },
   "file_extension": ".py",
   "mimetype": "text/x-python",
   "name": "python",
   "nbconvert_exporter": "python",
   "pygments_lexer": "ipython3",
   "version": "3.7.1"
  }
 },
 "nbformat": 4,
 "nbformat_minor": 2
}
