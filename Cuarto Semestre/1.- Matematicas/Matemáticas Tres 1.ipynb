{
 "cells": [
  {
   "cell_type": "markdown",
   "metadata": {},
   "source": [
    "# Matemáticas Tres"
   ]
  },
  {
   "cell_type": "markdown",
   "metadata": {
    "heading_collapsed": true
   },
   "source": [
    "## Introducción ##"
   ]
  },
  {
   "cell_type": "markdown",
   "metadata": {
    "heading_collapsed": true,
    "hidden": true
   },
   "source": [
    "### Bibliografia"
   ]
  },
  {
   "cell_type": "markdown",
   "metadata": {
    "hidden": true
   },
   "source": [
    "Libro de Texto:\n",
    "\n",
    "- Calculo de Varias Variables Cuarta Edicion Zill\n",
    "\n",
    "Consulta: \n",
    "- Larson, Hostetler, Edwards, Cálculo con Geometría Analítica\n",
    "- Purcell, Varberg, Rigdon, Cálculo, , México: Pearson Educación\n",
    "- Stewart, Calculus Early Transcendentals, , Belmont, CA: Thomson Brooks/Cole\n",
    "- Thomas, Cálculo. Varias Variables, , México: Pearson Educación"
   ]
  },
  {
   "cell_type": "markdown",
   "metadata": {
    "heading_collapsed": true,
    "hidden": true
   },
   "source": [
    "### Politicas "
   ]
  },
  {
   "cell_type": "markdown",
   "metadata": {
    "hidden": true
   },
   "source": [
    "- Se evaluan tareas, examenes rapidos, colaborativas y parciales.\n",
    "- Tareas son en linea y semanales. Examenes escritos. Dos parciales y un final.\n",
    "- Tareas individuales con dos intentos, se toma el más alto.\n",
    "- Examenes basados en tareas con duración maxima de 15 minutos.\n",
    "- No hay prorrogas. No calculadoras graficas o programables."
   ]
  },
  {
   "cell_type": "markdown",
   "metadata": {},
   "source": [
    "## Funciones de Varias Variables ##"
   ]
  },
  {
   "cell_type": "markdown",
   "metadata": {},
   "source": [
    "### Sistemas de Referencia"
   ]
  },
  {
   "cell_type": "markdown",
   "metadata": {},
   "source": [
    "El **plano** cartesiano o euclideano es el conjunto de puntos (x,y) donde ambos son numeros reales. Se representa por dos rectas ortogonales que intersectan en el origen.\n",
    "\n",
    "- La x es la Abcisa al punto. La y es la Ordenada al punto.\n",
    "\n",
    "El **espacio** euclideano es el conjunto de puntos (x, y, z) donde los tres componentes o variables son reales. Se representa por tres rectas ortogonales. Si algun componente es 0 el espacio se vuelve un plano indicado por dos ejes.\n",
    "\n",
    "- (0, b, c) = Plano YZ\n",
    "- (a, 0, c) = Plano XZ\n",
    "- (a, b, 0) = Plano XY\n",
    "\n",
    "Las **coordenadas cilindricas** se denotan mediante (r, theta, z). En donde (r) es la distancia al origen sobre XY, (z) es la altura y (theta) es el angulo desde el eje x positivo.\n",
    "\n",
    "\n",
    "<img src=\"https://mathinsight.org/media/image/image/cylindrical_coordinates.png\" alt=\"Coordenadas Cilindricas\" style=\"width: 160px;\"/>"
   ]
  },
  {
   "cell_type": "markdown",
   "metadata": {},
   "source": [
    "\\begin{gathered}\n",
    "    \\text{De cilindricas a rectangulares}\\\\\n",
    "    x = (r)(\\cos(\\theta)) \\qquad y = (r)(\\sin(\\theta)) \\qquad z = z \\\\\n",
    "    \\text{De rectangulares a cilindricas}\\\\\n",
    "    r = \\sqrt{x^2 + y^2} \\qquad \\theta = \\tan^{-1}(\\frac{y}{x}) \\qquad z = z\n",
    "\\end{gathered}"
   ]
  },
  {
   "cell_type": "markdown",
   "metadata": {},
   "source": [
    "Las **coordenadas esfericas** estan dadas por la triada ordenada (rho, phi, theta) o (rho, theta, phi). En donde (rho) es la distancia al origen, (theta) es el angulo entre la proyeccion de (rho) en XY y el eje x positivo, (phi) es el angulo entre (rho) y (z). Aquí (z) es igual a (rho) por el coseno de (phi).\n",
    "\n",
    "<img src=\"https://mathinsight.org/media/image/image/spherical_coordinates.png\" alt=\"Coordenadas Esfericas\" style=\"width: 160px;\"/>\n",
    "\n",
    "<img src=\"https://mathinsight.org/media/image/image/spherical_coordinates_cartesian.png\" alt=\"Angulos Coordenadas Esfericas\" style=\"width: 360px;\"/>"
   ]
  },
  {
   "cell_type": "markdown",
   "metadata": {},
   "source": [
    "\\begin{gathered}\n",
    "    \\text{De esfericas a rectangulares}\\\\\n",
    "    x = (\\rho)(\\sin(\\phi))(\\cos(\\theta)) \\quad y = (\\rho)(\\sin(\\phi))(\\sin(\\theta)) \\quad z = (\\rho)(\\cos(\\phi)) \\\\\n",
    "    \\text{De rectangulares a esfericas}\\\\\n",
    "    \\rho = \\sqrt{x^2 + y^2 + z^2} \\quad \\theta = \\tan^{-1}(\\frac{y}{x}) \\quad \\phi = \\cos^{-1}\\left(\\frac{z}{\\sqrt{x^2+y^2+z^2}}\\right)\\\\\n",
    "    \\text{De esfericas a cilindricas}\\\\\n",
    "    r = \\sqrt{(\\rho^2)(\\sin^2(\\phi))} \\quad \\theta = \\theta \\quad z = (\\rho)(\\cos(\\phi))\\\\\n",
    "    \\text{De cilindricas a esfericas}\\\\\n",
    "    p = \\sqrt{r^2 + z^2} \\quad \\theta = \\theta \\quad \\phi = \\cos^{-1}\\left(\\frac{z}{\\sqrt{r^2 + z^2}}\\right)\n",
    "\\end{gathered}"
   ]
  },
  {
   "cell_type": "markdown",
   "metadata": {},
   "source": [
    "El **dominio** de una funcion es el posible conjunto de numeros obtenidos que dependen de la variable o variables independientes.\n",
    "\n",
    "Una **funcion de n variables** es una correspondencia en donde la variable depeniente esta determinada por una o más variables indepenientes. \n",
    "\n",
    "\\begin{gathered}\n",
    "    \\text{Funcion de n Variables}\\\\\n",
    "    y = f(x_1, x_2)\\\\\n",
    "    \\text{Funcion de dos variables}\\\\\n",
    "    f(x,y) = x + y^2\n",
    "\\end{gathered}"
   ]
  },
  {
   "cell_type": "markdown",
   "metadata": {},
   "source": [
    "Ejemplos:\n",
    "\n",
    "\\begin{gathered}\n",
    "    f(x,y) = \\sqrt{y-x^2} \\quad D = \\{(x,y)|y-x^2 \\geq 0\\} \\quad y = x^2 \\quad R = \\{z| z \\geq 0\\}\\\\\n",
    "    f(x,y) = \\frac{1}{xy} \\quad D = \\{(x,y)| x \\neq 0 \\land y \\neq 0 \\} \\quad R = \\{z | z \\neq 0 \\}\\\\\n",
    "    f(x,y) = \\sin(xy) \\quad D = \\{(x,y) | (x,y) \\in \\mathbb{R}\\} \\quad R = \\{z | 0 \\leq z \\leq 1 \\}\\\\\n",
    "    f(x, y, z) = \\sqrt{x^2+y^2+z^2} \\quad D = \\{(x,y,z)| f \\in \\mathbb{R} \\} \\quad R = \\{f | f \\geq 0 \\}\\\\\n",
    "    f(x, y, z) = (x)(y)(\\ln(z)) \\quad D = \\{(x,y,z)| z > 0 \\}\\\\\n",
    "    f(x,y) = \\frac{\\log(x^2-2x-15)(4-y^2)}{x^3} \\quad D = \\{(x,y)| x < -3 \\cup x > 5 \\} \\}\n",
    "\\end{gathered}"
   ]
  },
  {
   "cell_type": "markdown",
   "metadata": {},
   "source": [
    "### Curvas de nivel"
   ]
  },
  {
   "cell_type": "markdown",
   "metadata": {},
   "source": [
    "La **grafica** de una funcion de dos variables tiende a ser una superficie en el espacio.\n",
    "\n",
    "Las lineas de contorno o **curvas de nivel** de la figura tridimencional se obtienen cortandola horizontalmente. Si la funcion esta dada por z = F(x,y)  z = k entonces z = k es la ecuacion para los puntos del corte. Para distintos valores de k obtenemos las curvas a distintos niveles. Si las curvas estan más cerca significa una pendiente de k más pronunciada.\n",
    "\n",
    "El mapa de nivel se construye graficando en el plano XY las curvas de nivel. En mathematica utilizamos el comando `ContourPlot[funcion, intervalos]`.\n",
    "\n",
    "Ejemplos de mapas de nivel son:\n",
    "\n",
    "- Ley de Gases Ideales\n",
    "- Ley de Van der Walls\n",
    "- Potencial Electrico\n",
    "\n",
    "Ejemplo: \n",
    "\n",
    "\\begin{gathered}\n",
    "    f(x,y) = xy \\quad k = xy \\quad y = \\frac{k}{x}\\\\\n",
    "\\end{gathered}"
   ]
  },
  {
   "cell_type": "code",
   "execution_count": null,
   "metadata": {},
   "outputs": [],
   "source": [
    "import matplotlib.pyplot as plt\n",
    "import numpy as np\n",
    "\n",
    "# Funcion\n",
    "def f(x, y):\n",
    "    return x*y\n",
    "\n",
    "# Tabular de -10 a 10 en x y en y\n",
    "x = np.linspace(-10, 10, 50)\n",
    "y = np.linspace(-10, 10, 50)\n",
    "\n",
    "# Generar plano XY\n",
    "X, Y = np.meshgrid(x, y)\n",
    "\n",
    "# Evaluar funcion\n",
    "Z = f(X, Y)\n",
    "\n",
    "# Dibujar mapa con niveles de -10 a 10\n",
    "plt.contour(X, Y, Z, range(-10,10), colors='black', );\n",
    "\n",
    "# Establecer zoom de la grafica de -5 a 5\n",
    "plt.xlim(-5, 5)\n",
    "plt.ylim(-5, 5)\n",
    "\n",
    "# Ejecutar todo\n",
    "plt.show()"
   ]
  },
  {
   "cell_type": "markdown",
   "metadata": {},
   "source": [
    "### Graficas para dos variables"
   ]
  },
  {
   "cell_type": "markdown",
   "metadata": {},
   "source": [
    "### Modelo Lineal"
   ]
  },
  {
   "cell_type": "markdown",
   "metadata": {},
   "source": [
    "### Ecuacion del plano tangente"
   ]
  },
  {
   "cell_type": "markdown",
   "metadata": {},
   "source": [
    "### Max y Min por derivadas parciales"
   ]
  },
  {
   "cell_type": "markdown",
   "metadata": {},
   "source": [
    "### Maximos y minimos por lagrange"
   ]
  },
  {
   "cell_type": "markdown",
   "metadata": {},
   "source": [
    "### Diferencial Total "
   ]
  },
  {
   "cell_type": "markdown",
   "metadata": {
    "heading_collapsed": true
   },
   "source": [
    "## Metodos Funciones de Varias Variables ##"
   ]
  },
  {
   "cell_type": "markdown",
   "metadata": {
    "hidden": true
   },
   "source": [
    "### Vector Gradiante"
   ]
  },
  {
   "cell_type": "markdown",
   "metadata": {
    "hidden": true
   },
   "source": [
    "### Derivada Direccional"
   ]
  },
  {
   "cell_type": "markdown",
   "metadata": {
    "hidden": true
   },
   "source": [
    "### Integral Doble"
   ]
  },
  {
   "cell_type": "markdown",
   "metadata": {
    "hidden": true
   },
   "source": [
    "### Integral Triple"
   ]
  },
  {
   "cell_type": "markdown",
   "metadata": {
    "hidden": true
   },
   "source": [
    "### Concepto de Integral Linea"
   ]
  },
  {
   "cell_type": "markdown",
   "metadata": {
    "hidden": true
   },
   "source": [
    "### Teorema Fundamental"
   ]
  },
  {
   "cell_type": "markdown",
   "metadata": {
    "hidden": true
   },
   "source": [
    "### Flujo de Campo Vectorial"
   ]
  },
  {
   "cell_type": "markdown",
   "metadata": {
    "hidden": true
   },
   "source": [
    "### Teorema de Green"
   ]
  },
  {
   "cell_type": "markdown",
   "metadata": {
    "heading_collapsed": true
   },
   "source": [
    "## Campos Vectoriales ##"
   ]
  },
  {
   "cell_type": "markdown",
   "metadata": {
    "hidden": true
   },
   "source": [
    "### Integral de Superficie"
   ]
  },
  {
   "cell_type": "markdown",
   "metadata": {
    "hidden": true
   },
   "source": [
    "### Divergencia y Rotacional"
   ]
  },
  {
   "cell_type": "markdown",
   "metadata": {
    "hidden": true
   },
   "source": [
    "### Teorema de Stackes"
   ]
  },
  {
   "cell_type": "markdown",
   "metadata": {
    "hidden": true
   },
   "source": [
    "### Teorema de Gauss"
   ]
  },
  {
   "cell_type": "markdown",
   "metadata": {
    "hidden": true
   },
   "source": [
    "### Problemas de Gauss"
   ]
  },
  {
   "cell_type": "markdown",
   "metadata": {
    "heading_collapsed": true
   },
   "source": [
    "## Formulas"
   ]
  }
 ],
 "metadata": {
  "kernelspec": {
   "display_name": "Python 3",
   "language": "python",
   "name": "python3"
  },
  "language_info": {
   "codemirror_mode": {
    "name": "ipython",
    "version": 3
   },
   "file_extension": ".py",
   "mimetype": "text/x-python",
   "name": "python",
   "nbconvert_exporter": "python",
   "pygments_lexer": "ipython3",
   "version": "3.7.1"
  }
 },
 "nbformat": 4,
 "nbformat_minor": 2
}
