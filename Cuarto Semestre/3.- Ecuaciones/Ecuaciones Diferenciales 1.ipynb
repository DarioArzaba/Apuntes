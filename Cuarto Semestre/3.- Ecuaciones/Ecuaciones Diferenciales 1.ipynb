{
 "cells": [
  {
   "cell_type": "markdown",
   "metadata": {},
   "source": [
    "# Ecuaciones Diferenciales"
   ]
  },
  {
   "cell_type": "markdown",
   "metadata": {
    "heading_collapsed": true
   },
   "source": [
    "## Introducción"
   ]
  },
  {
   "cell_type": "markdown",
   "metadata": {
    "heading_collapsed": true,
    "hidden": true
   },
   "source": [
    "### Bibliografia"
   ]
  },
  {
   "cell_type": "markdown",
   "metadata": {
    "hidden": true
   },
   "source": [
    "Libro de Texto:\n",
    "\n",
    "- Ecuaciones diferenciales con problemas con valores en la frontera. 9 Ed. Editorial CENGAGE."
   ]
  },
  {
   "cell_type": "markdown",
   "metadata": {
    "heading_collapsed": true,
    "hidden": true
   },
   "source": [
    "### Politicas"
   ]
  },
  {
   "cell_type": "markdown",
   "metadata": {
    "hidden": true
   },
   "source": [
    "- Se evaluan tareas, examenes rapidos, colaborativas y parciales.\n",
    "- Tareas son en linea y semanales. Examenes escritos. Dos parciales y un final.\n",
    "- Tareas individuales con dos intentos, se toma el más alto.\n",
    "- Examenes basados en tareas con duración maxima de 15 minutos.\n",
    "- No hay prorrogas. No calculadoras graficas o programables."
   ]
  },
  {
   "cell_type": "markdown",
   "metadata": {},
   "source": [
    "## Ecuaciones Primer Orden"
   ]
  },
  {
   "cell_type": "markdown",
   "metadata": {},
   "source": [
    "### Conceptos Basicos"
   ]
  },
  {
   "cell_type": "markdown",
   "metadata": {},
   "source": [
    "[Repaso en Khan Academy](https://es.khanacademy.org/math/differential-equations/first-order-differential-equations/differential-equations-intro/e/introduction-to-differential-equations-and-initial-value-problems)"
   ]
  },
  {
   "cell_type": "markdown",
   "metadata": {},
   "source": [
    "Una **ecuacion diferencial** (DE) es cualquier ecuacion que contiene una o más derivadas de funciones (o variables dependientes) con respecto a una o más variables independientes. La derivada de una funcion se pude considerar como una nueva funcion. \n",
    "\n",
    "\\begin{gathered}\n",
    "    y = f(x)\\\\\n",
    "    y' = f'(x) = \\frac{df(x)}{dx} = \\frac{dy}{dx}\\\\\n",
    "    y = e^{0.1x^2}\\\\\n",
    "    \\frac{dy}{dx} = 0.2x(e^{0.1x^2})\\\\\n",
    "    y = e^{0.1x^2} \\implies \\frac{dy}{dx} = 0.2xy\n",
    "\\end{gathered}\n",
    "\n",
    "Clasificación por TIPO:\n",
    "\n",
    "1. Ecuaciones Diferenciales Ordinarias (**ODE**) (1 variable independiente).\n",
    "2. Ecuaciones Diferenciales Parciales (**PDE**) (2+ variables independientes).\n",
    "\n",
    "Clasificación por ORDEN: \n",
    "\n",
    "El **orden** de una ecuacion diferencial es el grado más alto de una derivada en la ecuación. Podemos expresar una ODE en una variable dependiente mediante la forma general.\n",
    "\n",
    "\\begin{gathered}\n",
    "    \\text{Forma General}\\\\\n",
    "    F(x,y,y',y'', y^n) = 0\\\\\n",
    "    \\text{Forma Normal}\\\\\n",
    "    f(x,y,y',y'', y^{n-1}) = \\frac{d^ny}{dx^n}\\\\\n",
    "    \\text{Ejemplo}\\\\\n",
    "    f(x,y,y') = \\frac{d^2y}{dx^2}\n",
    "\\end{gathered}\n",
    "\n",
    "Clasificación por LINEALIDAD:\n",
    "\n",
    "Una ODE lineal (lineal en la variable dependiente (y)) de cualquier orden puede ser expresada en la siguiente forma:\n",
    "\n",
    "\\begin{gathered}\n",
    "a_n(x)\\frac{d^ny}{dx^n}+a_n(x)\\frac{d^n-1y}{dx^n-1}+...+a_2(x)\\frac{d^2y}{dx^2}+a_1(x)\\frac{dy}{dx}+a_0(x)y = g(x)\n",
    "\\end{gathered}\n",
    "\n",
    "1. El orden es el grado más alto de las derivadas (Tiene que haber por lo menos una sino no es una ecuacion diferencial).\n",
    "1. Es lineal si la dependiente (y) y sus derivadas son de primer grado.\n",
    "3. Es lineal si no aparecen funciones trascendentes como sen(y) o $e^{y'}$.\n",
    "4. Los coeficientes pueden ser constantes o variables (los variables contienen una f(x)).\n",
    "5. Si la parte derecha de la ecuacion es 0 y todos los terminos incluyen a (y) es homogenea.\n",
    "\n",
    "Para cualquier funcion definida en un intervalo I con al menos n derivadas continuas en I que al ser substituidas en una ODE reducen la ecuacion a una identidad son soluciones de la ecuacion en el intervalo. Una forma de verificar que una ecuacion es una solución es evaluandola en ambos lados de la ecuacion.\n",
    "\n",
    "\\begin{gathered}\n",
    "    \\frac{dy}{dx} = f(x,y) \\quad y (x_o) = y_o\\\\\n",
    "    \\text{Solucion Propuesta}\\\\\n",
    "    \\frac{dy}{dx} = xy^{1/2} \\quad y = \\frac{1}{16}x^4\\\\\n",
    "    \\text{Derivadas Necesarias}\\\\\n",
    "    y' = \\frac{1}{16}4x^3 = \\frac{1}{4}x^3\\\\\n",
    "    \\text{Lado Izquierdo}\\\\\n",
    "    \\frac{dy}{dx} = \\frac{1}{4}x^3\\\\\n",
    "    \\text{Lado Derecho}\\\\\n",
    "    xy^{1/2} = x(\\frac{1}{16}x^4)^{1/2} = \\frac{1}{4}x^3\\\\\n",
    "\\end{gathered}"
   ]
  },
  {
   "cell_type": "markdown",
   "metadata": {},
   "source": [
    "\\begin{gathered}\n",
    "    \\text{Solucion Propuesta}\\\\\n",
    "    y^{''}-2y'+y = 0 \\quad y = xe^x\\\\\n",
    "    \\text{Derivadas Necesarias}\\\\\n",
    "    y' = xe^x = (x)(e^x)'+(x)'(e^x) = xe^x+e^x\\\\\n",
    "    y{''} = xe^x+e^x+e^x = xe^x+2e^x\\\\\n",
    "    \\text{Lado Izquierdo}\\\\\n",
    "    y^{''} -2y'+y = xe^x+2e^x-2xe^x-2e^x+xe^2 = 0\\\\\n",
    "    \\text{Lado Derecho}\\\\\n",
    "    0\n",
    "\\end{gathered}"
   ]
  },
  {
   "cell_type": "markdown",
   "metadata": {},
   "source": [
    "Una relacion G(x,y) = 0 es una solucion implicita de una ODE en un intervalo I siempre que exista por lo menos una derivada de la relación que sea una solucion a la ODE.\n",
    "\n",
    "Ejemplo:\n",
    "\\begin{gathered}\n",
    "    \\text{Solucion Propuesta}\\\\\n",
    "    \\frac{dy}{dx} = \\frac{-x}{y} \\quad x^2+y^2=25\\\\\n",
    "    \\text{Derivadas Implicitas (Ambos lados)}\\\\\n",
    "    \\frac{d}{dx}x^2+\\frac{d}{dx}y^2=\\frac{d}{dx}25\\\\\n",
    "    2x+2y\\frac{dy}{dx}=0 \\implies \\frac{dy}{dx} = \\frac{-x}{y}\\\\\n",
    "    \\text{Raices de G(x,y) son Sol. Explicitas}\\\\\n",
    "    x^2+y^2=25 \\implies y = \\pm\\sqrt{25-x^2}\n",
    "\\end{gathered}\n",
    "\n"
   ]
  },
  {
   "cell_type": "markdown",
   "metadata": {},
   "source": [
    "Algunas soluciones mediante un parametro se convierten en familias de soluciones. \n",
    "\n",
    "\\begin{gathered}\n",
    "    \\text{Solucion Explicita Propuesta}\\\\\n",
    "    xy'-y = x^2(sinx) \\quad y = cx-xcosx\\\\\n",
    "    \n",
    "    \n",
    "\n",
    "\n",
    "\\frac{dy}{dx} = \\frac{-x}{y} \\quad x^2+y^2=25\\\\\n",
    "    \\text{Derivadas Implicitas (Ambos lados)}\\\\\n",
    "    \\frac{d}{dx}x^2+\\frac{d}{dx}y^2=\\frac{d}{dx}25\\\\\n",
    "    2x+2y\\frac{dy}{dx}=0 \\implies \\frac{dy}{dx} = \\frac{-x}{y}\\\\\n",
    "    \\text{Raices de G(x,y) son Sol. Explicitas}\\\\\n",
    "    x^2+y^2=25 \\implies y = \\pm\\sqrt{25-x^2}\n",
    "\\end{gathered}\n"
   ]
  },
  {
   "cell_type": "markdown",
   "metadata": {},
   "source": []
  },
  {
   "cell_type": "markdown",
   "metadata": {},
   "source": [
    "Coeficientes Variables\n",
    "5x, sinx, 1/x\n",
    "\n",
    "Coeficientes Constantes \n",
    "5y'' + 6y' + 7y = 0\n",
    "\n"
   ]
  },
  {
   "cell_type": "markdown",
   "metadata": {},
   "source": [
    "Primer Examen de Electricidad El sig Lun de examenes\n",
    "\n",
    "Tutorial ED de 11 a 12:30 los martes en cubiculo."
   ]
  },
  {
   "cell_type": "markdown",
   "metadata": {},
   "source": [
    "y=(x-xcosx)\n",
    "y'=c-cosx+xsinx\n",
    "Lado izquierdo y derecho\n",
    "xy'-y = x^2sinx\n",
    "\n",
    "x(c-cosx+xsinx)-(x-xcosx)\n",
    "cx -xcosx + x^2sinx - cx + xcosx \n",
    "cx -xcosx + x^2sinx - cx + xcosx = x^2sinx\n",
    "\n",
    "y = x^2+c\n",
    "y = cx^2\n",
    "\n",
    "\n",
    "\n",
    "x^3/4 = x^3/4          dy/dx - xy^{1/2} = 0\n",
    "dy/dx = xy^{1/2} tal que y = 1/16x^4\n",
    "\n",
    "\n",
    "\n",
    "\n",
    "\n",
    "\n",
    "\n",
    "\n",
    "\n",
    "\n",
    "\n",
    "x^2+y^2 = 25\n",
    "\n",
    "x=pmsqrt{25-y^2}\n",
    "\n",
    "Proposed Sol utions\n",
    "y = pm sqrt25-x^2\n",
    "1/2(25-x^2)^{-1/2}(-2x) = x/sqrt{25-x}\n",
    "25-x^2)^{1/2} (25-x^2)^{-1/2}(1/2)(-2x)\n",
    "\n",
    "derivative x^2+y^2 = 25 with resppecto to x\n",
    "2x +2y d/dx = 0\n",
    "2y dydx = -2x\n",
    "dy/dx = 2x/2y = -x/y (Ecuacion diferencial Forma)\n",
    "\n",
    "IMPORTANTE y^2 derivada = dy/dx (y)\n",
    "\n"
   ]
  },
  {
   "cell_type": "markdown",
   "metadata": {},
   "source": []
  },
  {
   "cell_type": "markdown",
   "metadata": {},
   "source": []
  },
  {
   "cell_type": "markdown",
   "metadata": {},
   "source": [
    "### Ecuaciones Lineales"
   ]
  },
  {
   "cell_type": "markdown",
   "metadata": {},
   "source": [
    "### Ecuaciones Exactas"
   ]
  },
  {
   "cell_type": "markdown",
   "metadata": {},
   "source": [
    "### Ecuaciónes Homogénea y de Bernoulli"
   ]
  },
  {
   "cell_type": "markdown",
   "metadata": {},
   "source": [
    "### Método de Euler"
   ]
  },
  {
   "cell_type": "markdown",
   "metadata": {
    "heading_collapsed": true
   },
   "source": [
    "## Ecuaciones Segundo o Mayor Orden"
   ]
  },
  {
   "cell_type": "markdown",
   "metadata": {
    "hidden": true
   },
   "source": [
    "### Aplicaciones Fisicas"
   ]
  },
  {
   "cell_type": "markdown",
   "metadata": {
    "hidden": true
   },
   "source": [
    "### Reducción de Orden"
   ]
  },
  {
   "cell_type": "markdown",
   "metadata": {
    "hidden": true
   },
   "source": [
    "### Coeficientes Indeterminados"
   ]
  },
  {
   "cell_type": "markdown",
   "metadata": {
    "hidden": true
   },
   "source": [
    "### Variación de Parámetros"
   ]
  },
  {
   "cell_type": "markdown",
   "metadata": {
    "heading_collapsed": true
   },
   "source": [
    "## Transformadas"
   ]
  },
  {
   "cell_type": "markdown",
   "metadata": {
    "hidden": true
   },
   "source": [
    "### Transformada de Laplace "
   ]
  },
  {
   "cell_type": "markdown",
   "metadata": {
    "hidden": true
   },
   "source": [
    "### Teoremas de Traslación"
   ]
  },
  {
   "cell_type": "markdown",
   "metadata": {
    "hidden": true
   },
   "source": [
    "### Sistemas de Ecuaciones "
   ]
  },
  {
   "cell_type": "markdown",
   "metadata": {
    "heading_collapsed": true
   },
   "source": [
    "## Ecuaciones Parciales"
   ]
  },
  {
   "cell_type": "markdown",
   "metadata": {
    "hidden": true
   },
   "source": [
    "### Aplicaciones"
   ]
  }
 ],
 "metadata": {
  "kernelspec": {
   "display_name": "Python 3",
   "language": "python",
   "name": "python3"
  },
  "language_info": {
   "codemirror_mode": {
    "name": "ipython",
    "version": 3
   },
   "file_extension": ".py",
   "mimetype": "text/x-python",
   "name": "python",
   "nbconvert_exporter": "python",
   "pygments_lexer": "ipython3",
   "version": "3.7.1"
  }
 },
 "nbformat": 4,
 "nbformat_minor": 2
}
