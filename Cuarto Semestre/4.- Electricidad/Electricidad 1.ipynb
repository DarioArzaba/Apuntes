{
 "cells": [
  {
   "cell_type": "markdown",
   "metadata": {},
   "source": [
    "4 Fuerzas\n",
    "Carga Electrica\n",
    "Chispa\n",
    "Aislantes y conductores\n",
    "Tribologia (Acomulacion de electrones)\n",
    "\n",
    "Leyes cargas electricas\n",
    "\n",
    "q = e (Numero protones - Numero Electrones\n",
    "\n",
    "Ne = \\frac{m(kg)1000(g/kg)Na(atomos/mol)Z(electrones/atomo)}{Peso atomico(g/m)}\n",
    "\n",
    "Np - Ne = q/e\n",
    "Np-Ne)/Ne = 6.25x10-17 / 9.086 x1026\n",
    "\n",
    "PRESENTACION"
   ]
  },
  {
   "cell_type": "markdown",
   "metadata": {},
   "source": []
  },
  {
   "cell_type": "markdown",
   "metadata": {},
   "source": []
  },
  {
   "cell_type": "markdown",
   "metadata": {},
   "source": []
  },
  {
   "cell_type": "markdown",
   "metadata": {},
   "source": []
  }
 ],
 "metadata": {
  "kernelspec": {
   "display_name": "Python 3",
   "language": "python",
   "name": "python3"
  },
  "language_info": {
   "codemirror_mode": {
    "name": "ipython",
    "version": 3
   },
   "file_extension": ".py",
   "mimetype": "text/x-python",
   "name": "python",
   "nbconvert_exporter": "python",
   "pygments_lexer": "ipython3",
   "version": "3.7.1"
  }
 },
 "nbformat": 4,
 "nbformat_minor": 2
}
