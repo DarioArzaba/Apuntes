{
 "cells": [
  {
   "cell_type": "markdown",
   "metadata": {},
   "source": [
    "# Electricidad"
   ]
  },
  {
   "cell_type": "markdown",
   "metadata": {
    "heading_collapsed": true
   },
   "source": [
    "## Interacciónes Electricas"
   ]
  },
  {
   "cell_type": "markdown",
   "metadata": {
    "heading_collapsed": true,
    "hidden": true
   },
   "source": [
    "### Cargas"
   ]
  },
  {
   "cell_type": "markdown",
   "metadata": {
    "hidden": true
   },
   "source": [
    "Los griegos observaron **interacciones electricas** al frotar ambar con lana generando una carga. Una persona (aislante) adquiere carga al frotar sus zapatos con una alfombra de nilon, liberando la carga al tocar un conductor.\n",
    "\n",
    "![Cargas](img/Cargas.png)\n",
    "\n",
    "1. Varilla de plastico con piel disipa las particulas positivas dejandolo negativo.\n",
    "2. Varilla de vidrio con seda disipa las particulas negativas dejandolo positivo.\n",
    "3. Existen dos tipos de carga, apodadas negativa y positiva por Benjamin Franklin.\n",
    "\n",
    "Las **fuerzas** elementales son: Electromagnetismo, Gravedad, Nuclear Fuerte y Nuclear Debil. \n",
    "\n",
    "La **chispa** eléctrica proviene de la acomulación de electrones en la superficie de un material no conductor (aislante) hacia uno conductor. \n",
    "\n",
    "Los **aislantes** tienden a acomular o ceder electrones, por lo que es más facil que tengan un diferencial de carga."
   ]
  },
  {
   "cell_type": "markdown",
   "metadata": {
    "heading_collapsed": true,
    "hidden": true
   },
   "source": [
    "### Atomos"
   ]
  },
  {
   "cell_type": "markdown",
   "metadata": {
    "hidden": true
   },
   "source": [
    "La **Ley de Cargas Electricas** establece que dos cargas semejantes se repelen, mientras que las cargas opuestas se atraen naturalmente para intentar alcanzar el equilibrio. \n",
    "\n",
    "La **Ley de Conservación de la Carga** establece que la carga eléctrica total de un sistema aislado se conserva.\n",
    "\n",
    "![Atomo](img/Atomo.png)\n",
    "\n",
    "Los **atomos** se componen de tres particulas, el electron con carga negativa, el proton con carga positiva y el neutron sin carga electrica. A pesar de que el proton y el electron tienen la misma magnitud de carga sus masas son distintas. \n",
    "\n",
    "Por **ionización** un atomo que tiene igual cantidad de protones y electrones es neutro, con un deficit de electrones es un ion positivo y con un exceso de electrones es un ion negativo. \n",
    "\n",
    "1. Numero Atomico (Protones) = $Z$\n",
    "2. Numero Masa (Protones + Neutrones) = $A$\n",
    "3. Carga Electrones (Atomo Neutro) = $-Z(e)$\n",
    "4. Carga Protones = $Z(e)$\n",
    "5. Neutrones = $N = (A-Z)$.\n",
    "6. Masa Atomica = $m_a = Zm_p + Nm_n$\n",
    "7. Peso Atomico = $A_r$ = Masa Atomica Relativa\n",
    "8. Masa Molar = $M = A_r * \\frac{1g}{mol}$\n",
    "\n",
    "\\begin{gathered}\n",
    "    \\text{Carga Fundamental Macroscopica}\\\\\n",
    "    e = 1.6021764871402 \\times 10^{-19}C\\\\\n",
    "    q_e = -e \\quad q_p = +e\\\\\n",
    "    m_e = 9.10938215 \\times 10^{-31}Kg\\\\\n",
    "    m_p = 1.672621637 \\times 10^{-27}Kg\\\\\n",
    "    m_n = 1.674927211 \\times 10^{-27}Kg\\\\\n",
    "    N_A = 6.022140857 \\times 10^{23}\n",
    "\\end{gathered}\n",
    "\n",
    "Todo material es **conductor** sin embargo algunos se consideran aislantes, semiconductores o superconductores debido a su coeficiente natural de conductividad.\n",
    "\n",
    "Por lo general un cuerpo macroscopico recibe su **carga neta** del exceso o falta de electrones, esta carga tiende a ser minuscula en comparacion a la carga total del cuerpo.\n",
    "\n",
    "\\begin{gathered}\n",
    "    \\text{Carga Total}\\\\\n",
    "    q = (e)(Np - Ne)\\\\\n",
    "    \\text{Np: Numero Protones}\\\\\n",
    "    \\text{Np: Numero Electrones}\n",
    "\\end{gathered}"
   ]
  },
  {
   "cell_type": "markdown",
   "metadata": {
    "heading_collapsed": true,
    "hidden": true
   },
   "source": [
    "### Carga Puntual"
   ]
  },
  {
   "attachments": {},
   "cell_type": "markdown",
   "metadata": {
    "hidden": true
   },
   "source": [
    "La carga de un objeto se modifica por contacto directo o por inducción al separar las cargas dentro de las regiones de un cuerpo macroscopico. Al conectar a tierra, un conductor infinito, liberamos la diferencia de carga por inducción. \n",
    "\n",
    "![Induccion](img/Induccion.png)\n",
    "\n",
    "Las cargas de un aislante no pueden moverse facilmente sin embargo si puede haber una reorientacion de las moleculas internas del aislante generando fuerzas electricas. Esto se denomina **polarización**.\n",
    "\n",
    "![Polarizacion](img/Polarizacion.png)\n",
    "\n",
    "Una **carga puntual** es la carga neta de un cuerpo cuya geometria es negligible. Coulomb estudio este tipo de cargas y utilizando una balanza de torsión determino que la fuerza electrica generada por dos cargas puntuales es proporcional al inverso de su distancia al cuadrado.\n",
    "\n",
    "![Balanza de Torsión](img/BalanzaDeTorsion.png)\n",
    "\n",
    "\\begin{gathered}\n",
    "    \\text{Ley de Coulomb}\\\\\n",
    "    \\vec{F_{1->2}} = \\frac{(k)(q_1)(q_2)}{|r_{12}|^2}\\hat{a_{12}}\\\\\n",
    "    r_{12} = (r)(\\hat{a_{12}}) \\land r = |r_{12}| \\implies \\hat{a_{12}} = \\frac{r_{12}}{|r_{12}|} = \\frac{(\\vec{r2}-\\vec{r1})}{|(\\vec{r2}-\\vec{r1})|}\\\\\n",
    "    \\vec{F_{1->2}} = \\left( \\frac{(k)(q_1)(q_2)}{|r_{12}|^3} \\right)(\\vec{r2}-\\vec{r1})\\\\\n",
    "    \\text{Constante de Coulomb: } k = 8.987551787\\times10^{9}\\frac{Nm^2}{C^2} = \\frac{1}{4\\pi\\epsilon_0}\\\\\n",
    "    \\text{Permitividad eléctrica del vacio: } \\epsilon_0 = 8.854\\times10^{-12}\n",
    "\\end{gathered}\n",
    "\n",
    "Se asume que las cargas estan en el vacio, en el aire consideramos que la fuerza cambia 1N por cada 2000N. La (k) es el valor real de las cargas fundamentales, sin embargo conviene separar sus unidades en Coulomb por ser proporcional al Ampere. Sabiendo esto 1 C equivale aproximadamente a $6\\times10^{18}$ electrones. Si las cargas se distribuyen la fuerza electrica en otra carga puntual sera la suma vectorial de las fuerzas de todas las demas cargas puntuales (superposición). "
   ]
  },
  {
   "cell_type": "markdown",
   "metadata": {
    "heading_collapsed": true,
    "hidden": true
   },
   "source": [
    "### Campo Electrico"
   ]
  },
  {
   "cell_type": "markdown",
   "metadata": {
    "hidden": true
   },
   "source": [
    "La interacción de cargas por inducción sugiere que al igual que con la gravedad existe una modificacion del espacio mismo, esta modificacion sucede incluso si la carga esta aislada y se denomina **campo electrico** y lo representamos por la fuerza electrica que genera una carga en cualquier punto del espacio.\n",
    "\n",
    "![Campo Electrico](img/CampoElectrico.png)\n",
    "\n",
    "\\begin{gathered}\n",
    "    \\vec{E} = \\frac{\\vec{F}}{q} \\implies \\vec{F} = (q)\\vec{E}\n",
    "\\end{gathered}\n",
    "\n",
    "Consideramos al campo electrico como un **campo vectorial** que describe la fuerza que experimenta un punto en el espacio dependiendo de la magnitud de la carga en dicho punto, se asume que la carga en el punto de prueba es positiva, sin embargo la **dirección de la fuerza** que genera el campo dependera de la carga en dicho punto.\n",
    "\n",
    "![Campo Electrico Aplicado](img/CampoElectricoAplicado.png)\n",
    "\n",
    "La direccion de la fuerza depende de la carga en el punto de prueba, sin embargo la **dirección del campo** depende de la carga en la fuente que genera el campo electrico.\n",
    "\n",
    "![Direccion del Campo](img/DireccionCampo.png)\n",
    "\n",
    "\\begin{gathered}\n",
    "    \\vec{E} = \\frac{kq}{|r|^2}(\\hat{r})\n",
    "\\end{gathered}\n",
    "\n",
    "\n",
    "Un **campo uniforme** es aquel en donde la magnitud y dirección de las fuerzas en una region son paralelas. Los campos en **distribuciones de carga** tambien se superposicionan (En donde dQ y r depende de la geometria de la distribucion).\n",
    "\n",
    "\\begin{gathered}\n",
    "    dE = \\frac{k(dQ)}{r^2}\\\\\n",
    "    \\text{Densidad de carga lineal} \\implies \\lambda = \\frac{Q}{L} = \\frac{C}{m}\\\\\n",
    "    \\text{Densidad de carga superficial} \\implies \\sigma = \\frac{Q}{A} = \\frac{C}{m^2}\\\\\n",
    "    \\text{Densidad de carga volumetrica} \\implies \\rho = \\frac{Q}{V} = \\frac{C}{m^3}\n",
    "\\end{gathered}\n",
    "\n",
    "Las **lineas de campo** son rectas o curvas imaginarias que parten de las fuentes positivas y terminan en las fuentes negativas cuya tangente en cualquier punto es el vector fuerza del campo total en dicho punto. Es un error creer que las cargas fluyen por el campo electrico dado que el efecto que tiene en el espacio es instantaneo. \n",
    "\n",
    "![Linea de Campo](img/LineaCampo.png)\n",
    "\n",
    "Los campos en 2D se pueden considerar mapas de campo con curvas de nivel, entre más cerca esten las lineas mayor es la magnitud del campo en ese punto.\n",
    "\n",
    "![Lineas de Campo](img/LineasCampo.png)"
   ]
  },
  {
   "cell_type": "markdown",
   "metadata": {
    "heading_collapsed": true,
    "hidden": true
   },
   "source": [
    "### Dipolo Electrico"
   ]
  },
  {
   "cell_type": "markdown",
   "metadata": {
    "hidden": true
   },
   "source": [
    "Un **dipolo electrico** es un par de cargas puntuales de igual magnitud y signos opuestos, por ejemplo una molecula de agua. Cuando un dipolo electrico se coloca en un campo uniforme las magnitudes de las cargas se anulan y la fuerza neta del dipolo es cero. Sin embargo si las fuerzas no actuan sobre la misma linea que el campo, el dipolo si genera un torque.\n",
    "\n",
    "\\begin{gathered}\n",
    "    \\vec{t\\pm} = \\frac{r}{2}\\sin(\\phi)\\\\\n",
    "    |t\\pm| = (qE)\\frac{r}{2}\\sin(\\phi)\\\\\n",
    "    \\vec{T} = (2)(qE)\\frac{r}{2}\\sin(\\phi) \\implies (qE)r\\sin(\\phi)\n",
    "\\end{gathered}\n",
    "\n",
    "![TorqueDipolo](img/TorqueDipolo.png)\n",
    "\n",
    "En donde phi es el angulo entre el campo y la linea que une al dipolo, por tanto $r\\sin(\\phi)$ es la distancia entre las cargas perpendicular al campo. El producto entre la carga (q) y la separacion (r) de un dipolo es la magnitud del **momento dipolar electrico**, cuyo vector tiene una direccion igual al eje dipolar.\n",
    "\n",
    "\\begin{gathered}\n",
    "    p = qr\\\\\n",
    "    \\vec{T} = (pE)\\sin(\\phi)\\\\\n",
    "    \\vec{T} = \\vec{p} \\times \\vec{E}\n",
    "\\end{gathered}\n",
    "\n",
    "![Dipolo](img/Dipolo.png)\n",
    "\n",
    "Al girar el dipolo, la torca que el campo realiza es un **trabajo** que se traduce en un cambio de energia potencial. Dado que el trabajo es por definicion la diferencia negativa de potenciales podemos definir a la **energia potencial** del sistema en terminos de phi.\n",
    "\n",
    "\\begin{gathered}\n",
    "    dW = Td\\phi = -pE\\sin(\\phi) \\implies W = \\int_{\\phi_1}^{\\phi_2} (-pE\\sin(\\phi))d\\phi\\\\\n",
    "    W = pE\\cos(\\phi_2) - pE\\cos(\\phi_1)\\\\\n",
    "    W = U_1 - U_2 \\implies U = -pE\\cos(\\phi) = U = -\\vec{p}\\cdot\\vec{E}\n",
    "\\end{gathered}"
   ]
  },
  {
   "cell_type": "markdown",
   "metadata": {
    "heading_collapsed": true
   },
   "source": [
    "## Ley de Gauss"
   ]
  },
  {
   "cell_type": "markdown",
   "metadata": {
    "heading_collapsed": true,
    "hidden": true
   },
   "source": [
    "### Flujo Electrico"
   ]
  },
  {
   "cell_type": "markdown",
   "metadata": {
    "hidden": true
   },
   "source": [
    "La **Ley de Gauss** es una herramienta que aprovecha las propiedades simetricas de las cargas para describirlas. Establece que cualquier distribución de carga encerrada en una superficie puede ser descrita por completo unicamente calculando los valores de su campo en la superficie.\n",
    "\n",
    "Al campo que detectamos en la superficie le denominamos **flujo electrico**. \n",
    "\n",
    "![Flujo](img/Flujo.png)\n",
    "![Flujo](img/Flujo2.png)\n",
    "\n",
    "1. Carga neta positiva tiene flujo electrico saliente.\n",
    "2. Carga neta negativa tiene flujo electrico entrante.\n",
    "3. Cargas equilibradas, campos uniformes o sin carga no tienen flujo.\n",
    "4. El flujo neto es proporcional a la carga contenida.\n",
    "5. El flujo neto es independiente del tamaño de la superficie.\n",
    "\n",
    "Si tenemos un flujo de agua uniforme que pasa por un alambre de area A lo calculamos en terminos de la razon volumetrica de flujo por tiempo. Si la velocidad de flujo es uniforme y el area A es perpendicular a dicha velocidad entonces $v(A)=\\frac{dV}{dt}$. Si el area A esta inclinado con respecto a la velocidad de flujo entonces $vA\\cos(\\phi)=\\frac{dV}{dt}$. Finalmente si consideramos al area como un vector obtenemos $\\frac{dV}{dt} = \\vec{v} \\cdot \\vec{A}$.\n",
    "\n",
    "![FlujoAgua](img/FlujoAgua.png)"
   ]
  },
  {
   "cell_type": "markdown",
   "metadata": {
    "heading_collapsed": true,
    "hidden": true
   },
   "source": [
    "### Superficie en Campo Uniforme"
   ]
  },
  {
   "cell_type": "markdown",
   "metadata": {
    "hidden": true
   },
   "source": [
    "El **flujo electrico** que pasa por una superficie plana en un campo uniforme se define de forma similar a un flujo de agua, sustituyendo la velocidad del fluido por el campo electrico. En este caso dado que la superficie no esta cerrada si el area aumenta entonces tambien aumenta el flujo.\n",
    "\n",
    "![FlujoSuperficie](img/FlujoSuperficie.png)\n",
    "\n",
    "\\begin{gathered}\n",
    "    \\Phi = EA\\cos(\\phi) \\frac{Nm^2}{C}\\\\\n",
    "    \\Phi = \\vec{E}\\cdot\\vec{A}\\\\\n",
    "    \\text{Vector A es Normal al Area}\\\\\n",
    "    \\vec{A} = A\\hat{n}\n",
    "\\end{gathered}\n",
    "\n",
    "La dirección del flujo electrico entrante o saliente esta dada por su signo, note que \"afuera\" y \"adentro\" dependen del vector unitario normal $\\hat{n}$. Si el campo electrico no es uniforme o el area no es una superficie plana entonces dividimos (A) en areas infinitesimales, cada diferencial tiene su propio vector normal $\\hat{n}$, por tanto $d\\vec{A} = dA(\\hat{n})$.\n",
    "\n",
    "\\begin{gathered}\n",
    "    \\text{Integral de Superficie del Flujo}\\\\\n",
    "    A = dA \\implies d\\Phi = (E\\cos(\\phi))(dA) = \\vec{E}\\cdot\\vec{A}(dA)\\\\\n",
    "    \\Phi = \\int(E\\cos(\\phi))(dA) = \\int\\vec{E}\\cdot\\vec{A}(dA)\n",
    " \\end{gathered}"
   ]
  },
  {
   "cell_type": "markdown",
   "metadata": {
    "heading_collapsed": true,
    "hidden": true
   },
   "source": [
    "### Cargas Encerradas"
   ]
  },
  {
   "cell_type": "markdown",
   "metadata": {
    "hidden": true
   },
   "source": [
    "Dada la relación entre una carga puntual o distribucion encerrada y una superficie podemos calcular el campo electrico como:\n",
    "\n",
    "\\begin{gathered}\n",
    "    \\text{Carga Puntual en Esfera}\\\\\n",
    "    E = \\frac{kq}{R^2} = \\frac{q}{4\\pi\\epsilon_0R^2}\\\\\n",
    "    \\vec{E} = (E)(A) = \\frac{q(4 \\pi R^2)}{4\\pi\\epsilon_0R^2} = \\frac{q}{\\epsilon_0}\\\\\n",
    " \\end{gathered}\n",
    " \n",
    "![CargaPuntualEsfera](img/CargaPuntualEsfera.png)\n",
    "\n",
    "De esta ultima ecuacion deducimos que el flujo electrico de una carga encerrada en una esfera, al igual que con una caja, no depende del tamaño o radio de la esfera, unicamente de la carga. Si la superficie es irregular podemos considerarla como una deformacion de la esfera que genera un angulo, en otras palabras consideramos al diferencial de area de la superficie irregular como una superficie plana en campo uniforme:\n",
    "\n",
    "\\begin{gathered}\n",
    "    \\text{Carga Puntual en Superficie Irregular}\\\\\n",
    "    d\\Phi = \\vec{E}\\cdot d\\vec{A} \\implies \\Phi = \\oint \\vec{E}\\cdot d\\vec{A} = \\frac{q}{\\epsilon_0}\n",
    "\\end{gathered}\n",
    "\n",
    "![FlujoIrregular](img/FlujoIrregular.png)\n",
    "\n",
    "Finalmente si consideramos multiples cargas encerradas y su campo total superposicionado encontramos la forma general de la ley de Gauss.\n",
    "\n",
    "> El flujo electrico total a través de cualquier superficie cerrada va a ser igual a la carga electrica neta dentro de la superficie dividida entre la permitividad electrica del vacio.\n",
    "\n",
    "\\begin{gathered}\n",
    "    \\text{Ley de Gauss}\\\\\n",
    "    \\Phi = \\oint E_T\\cos(\\phi)dA = \\oint \\vec{E}_T\\cdot d\\vec{A} = \\frac{Q_T}{\\epsilon_0}\n",
    "\\end{gathered}\n",
    "\n",
    "Recordemos que las superficies cerradas que utilizamos en nuestros modelos son imaginarias, son herramientas matematicas de referencia que no necesariamente corresponden a una superficie material y las denominamos **Superficies Gaussianas**."
   ]
  },
  {
   "cell_type": "markdown",
   "metadata": {
    "heading_collapsed": true,
    "hidden": true
   },
   "source": [
    "### Conductores"
   ]
  },
  {
   "attachments": {},
   "cell_type": "markdown",
   "metadata": {
    "hidden": true
   },
   "source": [
    "| Distribución | Punto de Prueba | Magnitud de Campo |\n",
    "|---|---|---|\n",
    "| Carga Puntual q | Desde q hasta r | $E = \\frac{kq}{r^2}$ |\n",
    "| Superficie de esfera conductora R | r > R | $E = \\frac{kq}{r^2}$ |\n",
    "| Superficie de esfera conductora R | r < R | $E = 0$ |\n",
    "| Carga de alambre infinito por unidad de longitud | Desde el alambre hasta r | $E = \\frac{2k\\lambda}{r}$ |\n",
    "| Cilindro conductor infinito R por lambda | r > R  | $E = \\frac{2k\\lambda}{r}$ |\n",
    "| Cilindro conductor infinito R por lambda | r < R  | $E = 0$ |\n",
    "| Carga uniforme Q en esfera aislante solida R | r > R | $E = \\frac{Q}{r^2}$ |\n",
    "| Carga uniforme Q en esfera aislante solida R | r < R | $E = \\frac{Qr}{R^3}$ |\n",
    "| Carga de lamina infinita por unidad de area | Cualquier punto | $E = \\frac{\\sigma}{2\\epsilon_0}$ |\n",
    "| Placas Conductoras Opuestas | Cualquier punto entre placas | $E = \\frac{\\sigma}{\\epsilon_0}$ |\n",
    "\n",
    "La ley de Gauss tiende a usarse para encontrar el campo generado por una distribucion o encontrar la distribucion que genere un campo. En la vida real se suele utilizar para encontrar el campo que genera una distribucion de carga dentro de un **conductor**, este calculo suele ser facil dado una propiedad de los conductores solidos:\n",
    "\n",
    "> Toda carga electrostatica en exceso dentro de un conductor solido tiende a ubicarse en la superficie del mismo dada la repulsión con los iones y electrones libres de los atomos neutros.\n",
    "\n",
    "![ConductorSolido](img/ConductorSolido.png)\n",
    "![ConductorHueco](img/ConductorHueco.png)\n",
    "\n",
    "Para resolver problemas con la Ley de Gauss combiene encerrar a la distribucion en esferas, cilindros o planos.\n",
    "\n",
    "Algunas conclusiones con respecto a los conductores son:\n",
    "\n",
    "1. El campo eléctrico de todo punto interno es cero.\n",
    "2. El exceso de carga estatica de un conductor solido esta distribuido en su superficie.\n",
    "3. Una carga dentro de una cavidad de un conductor solido ocaciona que la superficie de la cavidad tenga una carga opuesta.\n",
    "\n",
    "De estas conclusiones se puede comprobar experimentalmente la Ley de Gauss por medio de la **Hielera de Faraday**:\n",
    "\n",
    "![HieleraFaraday](img/HieleraFaraday.png)\n",
    "\n",
    "* Se coloca una esfera con carga positiva colgando de un aislante dentro de un recipiente metalico conductor.\n",
    "* La esfera induce cargas negativas en la superficie interna (cavidad) y positivas en la superficie.\n",
    "* Cuando la esfera toca el recipiente se vuelve parte de la superficie y por tanto pierde su carga positiva \n",
    "* La carga de la esfera intenta alejarse de la carga negativa en la superficie interna, distribyendose en la superficie externa.\n",
    "* La esfera queda sin carga y el recipiente originalmente neutro queda con un exceso de carga en su superficie.\n",
    "\n",
    "Este pricipio es tambien el que utiliza un **generador electrostático de Van de Graaff**.\n",
    "\n",
    "![GeneradorVandeGraaff](img/GeneradorVandeGraaff.png)\n",
    "\n",
    "* Una banda gira con un cepillo en la parte inferior que dispersa sus electrones.\n",
    "* El cepillo esta conectado a tierra descargando esos electrones y dejando a la banda positiva.\n",
    "* La banda positiva gira y en la parte superior otro cepillo conecta la carga positiva con una esfera de metal.\n",
    "* Dado que la esfera es delgada la diferencia por induccion entre la parte interna y externa es fuerte.\n",
    "* Esto propulsa la carga positiva de la banda a la superficie externa la esfera cargandola rapidamente.\n",
    "\n",
    "Utilizamos **Blindaje Electrostatico** como las **Jaulas de Faraday** para protejer objetos como instrumentos electronicos sensibles de campos electricos externos. Las cajas son conductoras y el campo fluye por ella generando una fuerza de atraccion en los electrones libres del conductor acercandolos por induccion a la fuente del campo y dejando el otro lado de la caja positivo, esencialmente polarizando al objeto.\n",
    "\n",
    "Esta polarizacion se da en las **superficies opuestas** del objeto simulando a dos placas cargadas opuestas que generan su propio campo electrico con la magnitud del campo externo pero en dirección opuesta, por superposicion el campo electrico externo e interno se cancela, eliminando el campo electrico en el interior de la caja.\n",
    "\n",
    "![BlindajeElectrostatico](img/BlindajeElectrostatico.png)\n",
    "\n",
    "Note que existe una relación directa entre la densidad superficial de carga en un conductor y el campo generado en un punto justo afuera del conductor. En general la densidad de una superficie irregular cambia de un punto a otro, sin embargo la direccion del campo siempre sera perpendicular al diferencial de la superficie. Gracias a esto sabemos que la magnitud del campo en cualquier punto justo afuera de la superficie cargada es:\n",
    "\n",
    "\\begin{gathered}\n",
    "    E_{\\perp} = \\frac{\\sigma}{\\epsilon_0}\n",
    " \\end{gathered}\n",
    " \n",
    "![SuperficieCargadaConductor](img/SuperficieCargadaConductor.png)\n"
   ]
  },
  {
   "cell_type": "markdown",
   "metadata": {},
   "source": [
    "## Potencial Electrico"
   ]
  }
 ],
 "metadata": {
  "kernelspec": {
   "display_name": "Python 3",
   "language": "python",
   "name": "python3"
  },
  "language_info": {
   "codemirror_mode": {
    "name": "ipython",
    "version": 3
   },
   "file_extension": ".py",
   "mimetype": "text/x-python",
   "name": "python",
   "nbconvert_exporter": "python",
   "pygments_lexer": "ipython3",
   "version": "3.7.1"
  }
 },
 "nbformat": 4,
 "nbformat_minor": 2
}
