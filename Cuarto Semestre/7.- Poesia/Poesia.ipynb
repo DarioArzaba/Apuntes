{
 "cells": [
  {
   "cell_type": "markdown",
   "metadata": {},
   "source": [
    "# Poesia"
   ]
  },
  {
   "cell_type": "markdown",
   "metadata": {},
   "source": [
    "## Tareas"
   ]
  },
  {
   "cell_type": "markdown",
   "metadata": {},
   "source": [
    "1. Crear lista de artistas.\n",
    "2. Escribir antologia.\n",
    "3. Aleman, concursos, organizaciones y publicaciones."
   ]
  },
  {
   "cell_type": "markdown",
   "metadata": {},
   "source": [
    "## Escritos"
   ]
  },
  {
   "cell_type": "markdown",
   "metadata": {},
   "source": [
    "### Introducción ###"
   ]
  },
  {
   "cell_type": "markdown",
   "metadata": {},
   "source": [
    "14 de Enero del 2019\n",
    "\n",
    "Nos presentamos mediante una autobiografia ficticia o real, que despues fue completada por un compañero. Realice la actividad con Frida y Angel.\n",
    "Despues me entere que Frida se iba tambien en el camion de las 6.\n",
    "\n",
    "---\n",
    "\n",
    "<img src=\"img\\Aventurero.jpg\" alt=\"Aventurero\" style=\"width: 200px;\"/>\n",
    "\n",
    "24-04-2218\n",
    "\n",
    "Su mayor logro fueron las condecoraciones en silencio, aquel heroe del cotidiano\n",
    "le gustaba vertir risas en su tarde, abrazar al amigo en apuros y rescatar el tiempo perdido.\n",
    "A él le gustaba recordar el frio de las cima más alta o del lecho más profundo,\n",
    "en este y en otros mundos.\n",
    "\n",
    "Tuvimos al mejor explorador, un feroz aventurero que nos trajo\n",
    "especies exoticas de entre bosques y desiertos, atravezando tundras y cañones inospitos.\n",
    "Te deseamos lo mejor en este nuevo viaje y esperamos que las estrellas de acojan entre su eterna noche.\n",
    "\n",
    "Para Darío de la Unión de Planetas Humanos de la Via Lactea.\n",
    "\n",
    "27-11-2219\n",
    "\n",
    "Necesitamos que aquel héroe, que sus risas compartía, nuestros llantos\n",
    "acallaba y aquellos mundos recorria, nos regrese los momentos que sabemos\n",
    "él no olvida.\n",
    "\n",
    "Aventurero, necesitamos tu fuereza para obtener más especies,\n",
    "pues sabemos que de aquellas ya no extrañan tus iguales.\n",
    "Esperamos que tus aventuras continuen y a nuestras tierras profundas, \n",
    "con nuevas especies, tú pronto vuelvas.\n",
    "\n",
    "Para Darío de la Unión de Planetas Humanos de la Via Lactea.\n",
    "\n",
    "---\n"
   ]
  },
  {
   "cell_type": "markdown",
   "metadata": {},
   "source": [
    "### El beso"
   ]
  },
  {
   "cell_type": "markdown",
   "metadata": {},
   "source": [
    "15 de Enero del 2019\n",
    "\n",
    "<img src=\"img\\V-J_kiss_times_square.jpg\" alt=\"V-J_kiss_times_square\" style=\"width: 200px;\"/>\n",
    "\n",
    "* El beso fotografia (V-J Day Times Square) por Alfred Eisensteadt en 1945.\n",
    "* US Navy borracho besando a una extraña al enterarse de la victoria en Japon.\n",
    "\n",
    "Para mi simboliza un momento alegre, lleno de la celebración de haber ganado, sobretodo captura lo inesperado. La mujer en sus movimientos, el hombre la captura con fuerza y toda su persona se concentra en el momento como intentando evitar que termine.\n",
    "\n",
    "<img src=\"img\\El_Beso_Gustav_Kilmt.jpg\" alt=\"img\\El_Beso_Gustav_Kilmt\" style=\"width: 200px;\"/>\n",
    "\n",
    "* El beso (Liebespaar o Lovers), por Gustav Klimt en 1908\n",
    "* Periodoo dorado de Klimts, pareja con elaboradas prendas Art Nouveau.\n",
    "\n",
    "Para mí simboliza un instante de amor, intimidad y sexualidad. Los dos cuerpos se unen en uno solo, esta naturalidad es acentuada por los patrones florales y la naturaleza abstracta que rodea a la pareja. El fondo completamente dorado unicamente acentua un ambiente magico y la falta de profundidad envia la mirada a los rostros de los amantes.\n",
    "\n",
    "<img src=\"img\\Le_Baiser.jpg\" alt=\"img\\Le_Baiser.jpg\" style=\"width: 200px;\"/>\n",
    "\n",
    "* El beso escultura (Le baiser) por Auguste Rodin en 1882.\n",
    "* Pareja desnuda, modelo originalmente parte de las puertas del infierno. epresenta a Francesca da Rimini, mujer italiana que se enamora de el hermano menor de su esposo Paolo. El esposo los encuntra mientras leian un libro juntos y mata a ambos. En la escultura los labios no se tocan.\n",
    "\n",
    "Para mi simboliza lo prohibido, captura el deseo oculto y desenfrenado, ambos se encuentran completamente entregados el uno al otro y a pesar de estar fisicamente en el mismo espacio, existe una barrera invisible que los separa pero perceptible por la posicion en la que se encuentran. Su mirada grita con ancias la falta del otro en sus vidas.\n",
    "\n",
    "---"
   ]
  },
  {
   "cell_type": "markdown",
   "metadata": {},
   "source": [
    " <div style=\"text-align:center\">\n",
    "    <span style=\"font-style:italic;\">\n",
    "Infierno, caigo a ti de espaldas,<br>\n",
    "de tu rosa viví por mucho tiempo.<br>\n",
    "Derrame mis manos por el mango de tu espalda,<br>\n",
    "y dije lo prohibido a oscuras, sin cielo.<br>\n",
    "<br> \n",
    "Que la eternidad nos espere por un momento,<br>\n",
    "no vaya ser que nos encuentre a solas<br>\n",
    "o que el aroma que habias derretido en mi piel,<br>\n",
    "se canse de invadir mis horas.<br>\n",
    " \n",
    "   </span>\n",
    "</div>"
   ]
  },
  {
   "cell_type": "markdown",
   "metadata": {},
   "source": [
    "### Poesia Cinematografica"
   ]
  },
  {
   "cell_type": "markdown",
   "metadata": {},
   "source": [
    "22 Enero del 2019\n",
    "\n",
    "Comentario sobre los motivos poeticos en el [climax de la pelicula de Kill Bill](https://www.youtube.com/watch?v=EajaioMj-NA):"
   ]
  },
  {
   "cell_type": "markdown",
   "metadata": {},
   "source": [
    " <div style=\"text-align:center\">\n",
    "    <span style=\"font-style:italic;\">\n",
    "Estoy en blanco. Soy el blanco de la nieve que me acobija.<br>\n",
    "Conjelo con el frio los instantes y me vuelvo su contorno.<br>\n",
    "Veo mi enemiga a los ojos, es como si me viera a mi misma.<br>\n",
    "Dejamos que el silencio nos consuma sin despertar en vano.<br>\n",
    "Volarón libres los sollozos huerfanos de nuestras katanas.<br>\n",
    "Origenes y partidas nuevas. Poder bailar y morir de noche.<br>\n",
    "   \n",
    "   </span>\n",
    "</div>"
   ]
  },
  {
   "cell_type": "markdown",
   "metadata": {},
   "source": [
    "Escribir sobre algun miedo que tuvieras de niño (desmayarme en una caida):"
   ]
  },
  {
   "cell_type": "markdown",
   "metadata": {},
   "source": [
    " <div style=\"text-align:center\">\n",
    "    <span style=\"font-style:italic;\">\n",
    "La última llamada.<br>\n",
    "Atención.<br>\n",
    "Final del aire, tiempo y razón.<br>\n",
    "Soy.&nbsp;&nbsp;&nbsp;&nbsp;Punto.<br>\n",
    "(Así me escondo del peligro)<br>\n",
    "<br>\n",
    "Tengo miedo a caer.<br>\n",
    "<br>       \n",
    "¿Se llama muerte?<br>\n",
    "<br>\n",
    "Como un cometa,<br>\n",
    "desmayarme en la acera.<br>\n",
    "<br>       \n",
    "Tengo miedo a caer.<br>\n",
    "   </span>\n",
    "</div>"
   ]
  },
  {
   "cell_type": "markdown",
   "metadata": {},
   "source": [
    "### Niveles Poeticos"
   ]
  },
  {
   "cell_type": "markdown",
   "metadata": {},
   "source": [
    "29 de Enero del 2019\n",
    "\n",
    "Escribir tres listas de palabras con distintos niveles linguisticos-filologicos. Un nivel fonético, morfosintactico, y semantico.\n",
    "\n",
    "| Fonético | Morfosintactico | Semantico |\n",
    "|---|---|---|\n",
    "| Cascada | Foco | Vida |\n",
    "| Explotar | Felino | Muerte |\n",
    "| Enterrar | Cofre | Divino |\n",
    "| Aire | Droga | Eterno |\n",
    "| Golpear | Rojo | Alma |\n",
    "| Luz | Violin | Sublime |\n",
    "| Agua | Chocolate | Nombre |"
   ]
  },
  {
   "cell_type": "markdown",
   "metadata": {},
   "source": [
    " <div style=\"text-align:center\">\n",
    "    <span style=\"font-style:italic;\">\n",
    "Tu cascada es un foco de vida<br>\n",
    "que expota al felino de la muerte.<br>\n",
    "<br>\n",
    "Entierra aqui mi cofre divino,<br>\n",
    "sin aire, nuestra droga es eterna.<br>\n",
    "<br>\n",
    "Tus golpes son el rojo de mi alma,<br>\n",
    "darte a luz desde un violin sublime.<br>\n",
    "<br>\n",
    "Solo quiero más agua para recordar,<br>\n",
    "el chocolate que dejo tu nombre.<br>\n",
    "   </span>\n",
    "</div>"
   ]
  },
  {
   "cell_type": "markdown",
   "metadata": {},
   "source": [
    "La siguiente actividad consistió en describir una emoción que experimentamos habitualmente durante el dia para que la adivinaran. En mi caso elegí la emoción del [asombro](https://practicalphilosophy.org.au/because-philosophy-arises-from-awe-a-philosopher-is-bound-in-his-way-to-be-a-lover-of-myths-and-poetic-fables-poets-and-philosophers-are-alike-in-being-big-with-wonder-st-thomas-aquinas/)."
   ]
  },
  {
   "cell_type": "markdown",
   "metadata": {},
   "source": [
    " <div style=\"text-align:center\">\n",
    "    <span style=\"font-style:italic;\">\n",
    "Burbujear de la nada y pasar junto a ella.<br>\n",
    "El telon de mi obra es la briza del dia.<br>\n",
    "Ahí es el pueblo natal de mis expectativas.<br>\n",
    "Cerca de la cotideaneidad estropeada.<br>\n",
    "Otro tragraluz que deja a mi sombra arruinada.<br>\n",
    "   </span>\n",
    "</div>"
   ]
  }
 ],
 "metadata": {
  "kernelspec": {
   "display_name": "Python 3",
   "language": "python",
   "name": "python3"
  },
  "language_info": {
   "codemirror_mode": {
    "name": "ipython",
    "version": 3
   },
   "file_extension": ".py",
   "mimetype": "text/x-python",
   "name": "python",
   "nbconvert_exporter": "python",
   "pygments_lexer": "ipython3",
   "version": "3.7.1"
  }
 },
 "nbformat": 4,
 "nbformat_minor": 2
}
