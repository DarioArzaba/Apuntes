{
 "cells": [
  {
   "cell_type": "markdown",
   "metadata": {},
   "source": [
    "# Poesia"
   ]
  },
  {
   "cell_type": "markdown",
   "metadata": {
    "heading_collapsed": true
   },
   "source": [
    "## Tareas"
   ]
  },
  {
   "cell_type": "markdown",
   "metadata": {
    "hidden": true
   },
   "source": [
    "Este semestre quiero de mi clase de poesia:\n",
    "\n",
    "1. Crear grupo WA.\n",
    "2. Crear lista de artistas.\n",
    "3. Crear cuenta de Schoology.\n",
    "2. Conocernos entre todos.\n",
    "3. Escribir antologia.\n",
    "4. Pedir contacto de profesor, clases literatura y aleman\n",
    "5. Pedir contacto de concursos y organizaciones.\n",
    "6. Pedir ayuda para publicaciones."
   ]
  },
  {
   "cell_type": "markdown",
   "metadata": {},
   "source": [
    "## Escritos"
   ]
  },
  {
   "cell_type": "markdown",
   "metadata": {
    "heading_collapsed": true
   },
   "source": [
    "### Introducción ###"
   ]
  },
  {
   "cell_type": "markdown",
   "metadata": {
    "hidden": true
   },
   "source": [
    "14 de Enero del 2019\n",
    "\n",
    "Nos presentamos mediante una autobiografia ficticia o real, que despues fue completada por un compañero. Realice la actividad con Frida y Angel.\n",
    "Despues me entere que Frida se iba tambien en el camion de las 6.\n",
    "\n",
    "---\n",
    "\n",
    "24-04-2218\n",
    "\n",
    "Su mayor logro fueron las condecoraciones en silencio, aquel heroe del cotidiano\n",
    "le gustaba vertir risas en su tarde, abrazar al amigo en apuros y rescatar el tiempo perdido.\n",
    "A él le gustaba recordar el frio de las cima más alta o del lecho más profundo,\n",
    "en este y en otros mundos.\n",
    "\n",
    "Tuvimos al mejor explorador, un feroz aventurero que nos trajo\n",
    "especies exoticas de entre bosques y desiertos, atravezando tundras y cañones inospitos.\n",
    "Te deseamos lo mejor en este nuevo viaje y esperamos que las estrellas de acojan entre su eterna noche.\n",
    "\n",
    "Para Darío de la Unión de Planetas Humanos de la Via Lactea.\n",
    "\n",
    "27-11-2219\n",
    "\n",
    "Necesitamos que aquel héroe, que sus risas compartía, nuestros llantos\n",
    "acallaba y aquellos mundos recorria, nos regrese los momentos que sabemos\n",
    "él no olvida.\n",
    "\n",
    "Aventurero, necesitamos tu fuereza para obtener más especies,\n",
    "pues sabemos que de aquellas ya no extrañan tus iguales.\n",
    "Esperamos que tus aventuras continuen y a nuestras tierras profundas, \n",
    "con nuevas especies, tú pronto vuelvas.\n",
    "\n",
    "Para Darío de la Unión de Planetas Humanos de la Via Lactea.\n",
    "\n",
    "---\n"
   ]
  },
  {
   "cell_type": "markdown",
   "metadata": {},
   "source": [
    "### El beso"
   ]
  },
  {
   "cell_type": "markdown",
   "metadata": {},
   "source": [
    "15 de Enero del 2019\n",
    "\n",
    "* El beso fotografia (V-J Day Times Square) por Alfred Eisensteadt en 1945.\n",
    "* US Navy borracho besando a una extraña al enterarse de la victoria en Japon.\n",
    "\n",
    "Para mi simboliza un momento alegre, lleno de la celebración de haber ganado, sobretodo captura lo inesperado. La mujer en sus movimientos, el hombre la captura con fuerza y toda su persona se concentra en el momento como intentando evitar que termine.\n",
    "\n",
    "* El beso (Liebespaar o Lovers), por Gustav Klimt en 1908\n",
    "* Periodoo dorado de Klimts, pareja con elaboradas prendas Art Nouveau.\n",
    "\n",
    "Para mí simboliza un instante de amor, intimidad y sexualidad. Los dos cuerpos se unen en uno solo, esta naturalidad es acentuada por los patrones florales y la naturaleza abstracta que rodea a la pareja. El fondo completamente dorado unicamente acentua un ambiente magico y la falta de profundidad envia la mirada a los rostros de los amantes.\n",
    "\n",
    "* El beso escultura (Le baiser) por Auguste Rodin en 1882.\n",
    "* Pareja desnuda, modelo originalmente parte de las puertas del infierno. epresenta a Francesca da Rimini, mujer italiana que se enamora de el hermano menor de su esposo Paolo. El esposo los encuntra mientras leian un libro juntos y mata a ambos. En la escultura los labios no se tocan.\n",
    "\n",
    "Para mi simboliza lo prohibido, captura el deseo oculto y desenfrenado, ambos se encuentran completamente entregados el uno al otro y a pesar de estar fisicamente en el mismo espacio, existe una barrera invisible que los separa pero perceptible por la posicion en la que se encuentran. Su mirada grita con ancias la falta del otro en sus vidas.\n",
    "\n",
    "---"
   ]
  },
  {
   "cell_type": "markdown",
   "metadata": {},
   "source": [
    " <div style=\"text-align:center\">\n",
    "    <span style=\"font-style:italic;\">\n",
    "        \n",
    "        Infierno, caigo a ti de espaldas,\n",
    "        de tu rosa viví por mucho tiempo.\n",
    "        Derrame mis manos por el mango de tu espalda,\n",
    "        y dije lo prohibido a oscuras, sin cielo.\n",
    "        \n",
    "        Que la eternidad nos espere por un momento,\n",
    "        no vaya ser que nos encuentre a solas\n",
    "        o que el aroma que habias derretido en mi piel,\n",
    "        se canse de invadir mis horas.\n",
    " \n",
    "   </span>\n",
    "</div>"
   ]
  },
  {
   "cell_type": "code",
   "execution_count": null,
   "metadata": {},
   "outputs": [],
   "source": [
    "\n"
   ]
  }
 ],
 "metadata": {
  "kernelspec": {
   "display_name": "Python 3",
   "language": "python",
   "name": "python3"
  },
  "language_info": {
   "codemirror_mode": {
    "name": "ipython",
    "version": 3
   },
   "file_extension": ".py",
   "mimetype": "text/x-python",
   "name": "python",
   "nbconvert_exporter": "python",
   "pygments_lexer": "ipython3",
   "version": "3.7.1"
  }
 },
 "nbformat": 4,
 "nbformat_minor": 2
}
