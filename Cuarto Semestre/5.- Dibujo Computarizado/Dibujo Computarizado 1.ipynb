{
 "cells": [
  {
   "cell_type": "markdown",
   "metadata": {},
   "source": [
    "# Dibujo Computarizado"
   ]
  },
  {
   "cell_type": "markdown",
   "metadata": {},
   "source": [
    "## Introducción"
   ]
  },
  {
   "cell_type": "markdown",
   "metadata": {
    "heading_collapsed": true
   },
   "source": [
    "### CAD"
   ]
  },
  {
   "cell_type": "markdown",
   "metadata": {
    "hidden": true
   },
   "source": [
    "El **dibujo tecnico** o drafting es la creacion de dibujos para comunicar visualmente la funcion o construcción de una maquina mediante una serie de vistas estandar, simbolos, unidades, medidas, estilos y ubicaciones en el papel. Se utiliza en aplicaciones mecanicas, industriales y de costrucción.\n",
    "\n",
    "Se denomina **CAD** al diseño asistido por computadora, es todo software que produce dibujos tecnicos mediante modelos en 2D O 3D. Pueden generar los dibujos tecnicos de forma **Parametrica** o **No Parametrica (Surfacing)**.\n",
    "\n",
    "El **CAD Parametrico** permite crear modelos mediante valores matematicos en el espacio creando un historial de las operaciones realizadas. Utilizado en el diseño mecanico por su flexibilidad y precision.\n",
    "\n",
    "- NX\n",
    "- Cathia\n",
    "- AutoCAD\n",
    "- Inventor\n",
    "- SolidWorks\n",
    "\n",
    "El **CAD No Parametrico** permite crear modelos mediante surfacing o el estilo de superficies. Generalmente mediante nurbs permitiendo crear Flow Surfaces (Class A).\n",
    "\n",
    "- Alias\n",
    "- Rhinoceros\n",
    "- Evolve"
   ]
  },
  {
   "cell_type": "markdown",
   "metadata": {},
   "source": [
    "### NX Intro"
   ]
  },
  {
   "cell_type": "markdown",
   "metadata": {},
   "source": [
    "NX es un CAD parametrico desarrollado por Siemens PLM Software.\n",
    "\n",
    "- Interfaz Inicial: Menus Tab, Ribbon Bar, Resource Bar, Area Grafica, Guide Bar\n",
    "- Template: File Type and File Name/Route\n",
    "- Zoom and Pan: View Tab, Graphic Tab\n",
    "- Part Navigator: Features History, Features Dependencies, Right Click Functions Tab\n",
    "- WCS: Work Coordinate System. View Triad Reference to Absolute WCS\n",
    "- Part Navigator: True Shading, S. Edges, Shaded, Wireframe, W. Hidden, W. Dim Edges.\n",
    "- Orientation: Left, Right, Top, Front, Side, Back.\n",
    "- Datum: Vector Reference to Object Geometry\n",
    "- Grid: Automotive default of 100 mm.\n",
    "- Tool box: Required Input and Value input.\n",
    "- Class Selection Filter and Object Display `Ctrl + J`.\n",
    "\n",
    "Primer Practica:\n",
    "\n",
    "    Open file 01_B.prt (Schoology)\n",
    "    Identify the View Traid (Click “w”)\n",
    "    Identify the Resource Bar\n",
    "    Identify the Part Navigator\n",
    "    Identify the Parent dependencies & child dependecies\n",
    "    Visaulize the part in difirent styles\n",
    "    Identify the WCS\n",
    "    Fit, Zoom, Pan & Rotate\n",
    "    Close the part\n",
    "\n",
    "Segunda Practica:\n",
    "\n",
    "    Open file 02_B.prt \n",
    "    Identify el Work Layer\n",
    "    Delete the Edge Blend (7), (8) & (9)\n",
    "    Close the file"
   ]
  },
  {
   "cell_type": "markdown",
   "metadata": {},
   "source": [
    "### Vistas y Primitivos"
   ]
  },
  {
   "cell_type": "markdown",
   "metadata": {},
   "source": [
    "La proyeccion **ortogonales** puede ser americana (ASA) o europea (ISO). La proyección **ortografica** pasa el objeto a 2D. Las perspectivas pueden ser isometricas o trimetricas. Las **geometrias primitivas** son figuras tridimencionales basicas. Las **operaciones booleanas** permiten que dos o más primitivos interactuen entre si mediante uniones, substracciones o intersecciones.\n",
    "\n",
    "Tercera Practica:\n",
    "    \n",
    "    Create models with boolean operations and primitives.\n",
    "    Paste screeshots of the basic views."
   ]
  },
  {
   "cell_type": "markdown",
   "metadata": {},
   "source": [
    "## Help"
   ]
  },
  {
   "cell_type": "markdown",
   "metadata": {},
   "source": [
    "https://docs.plm.automation.siemens.com/tdoc/nx/11/nx_help#uid:index\n",
    "\n",
    "https://www.youtube.com/watch?v=wRlvPMPedj0\n",
    "\n",
    "- On July 2016 Siemens introuces NX11. They end support for NX 32 Bit.\n",
    "- Mac OS X Apple Mac 64 bit Intel 10.10.3 supported.\n",
    "\n",
    "La aplicacion **Modeling** es usada para crear la geometria de partes.\n",
    "Para modificar el Layout utilizamos **User Roles**.\n",
    "Para unir las partes utilizamos **Assemblies**.\n",
    "PMI (Product and Manufacturing Information) permite anotar la geometria en 3D.\n",
    "Drafting es la aplicacion que genera la documentacion en 2D.\n",
    "Manufacturing permite crear NC (Numerical Control) Paths usados para crear los moldes.\n",
    "Finalmente el Design Simulation es usado para analizar la aplicación de fuerzas.\n",
    "\n"
   ]
  }
 ],
 "metadata": {
  "kernelspec": {
   "display_name": "Python 3",
   "language": "python",
   "name": "python3"
  },
  "language_info": {
   "codemirror_mode": {
    "name": "ipython",
    "version": 3
   },
   "file_extension": ".py",
   "mimetype": "text/x-python",
   "name": "python",
   "nbconvert_exporter": "python",
   "pygments_lexer": "ipython3",
   "version": "3.7.1"
  }
 },
 "nbformat": 4,
 "nbformat_minor": 2
}
