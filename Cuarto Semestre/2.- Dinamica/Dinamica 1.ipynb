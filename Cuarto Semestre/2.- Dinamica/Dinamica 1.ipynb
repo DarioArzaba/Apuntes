{
 "cells": [
  {
   "cell_type": "markdown",
   "metadata": {},
   "source": [
    "# Dinamica 1"
   ]
  },
  {
   "cell_type": "markdown",
   "metadata": {
    "heading_collapsed": true
   },
   "source": [
    "## Introducción"
   ]
  },
  {
   "cell_type": "markdown",
   "metadata": {
    "heading_collapsed": true,
    "hidden": true
   },
   "source": [
    "### Datos de la materia"
   ]
  },
  {
   "cell_type": "markdown",
   "metadata": {
    "hidden": true
   },
   "source": [
    "- Clave: M-1005\n",
    "- Profesor: David Vilchis Bernal\n",
    "- Correo: davidvilchis@tec.mx\n",
    "- Asesorias: Cita por correo electronico\n",
    "- Conservar lo realizado en clase como evidencia.\n",
    "- Actividades Colaborativas en equipos de 2 a 3.\n",
    "- No usar computadoras a menos que lo solicite el profesor."
   ]
  },
  {
   "cell_type": "markdown",
   "metadata": {
    "heading_collapsed": true,
    "hidden": true
   },
   "source": [
    "### Bibliografia"
   ]
  },
  {
   "cell_type": "markdown",
   "metadata": {
    "hidden": true
   },
   "source": [
    "- Beer, Ferdinand Pierre, 1915-, Mecánica vectorial para ingenieros :Dinámica \n",
    "- Bedford, A., Mecánica para ingeniería : dinámica / Anthony Bedfprd, Wallace Fowler\n",
    "- Hibbeler, R. C., Ingeniería mécanica. Dinámica / Russell C. Hibbeler"
   ]
  },
  {
   "cell_type": "markdown",
   "metadata": {},
   "source": [
    "## Cinematica Plana Cuerpos Rigidos"
   ]
  },
  {
   "cell_type": "markdown",
   "metadata": {},
   "source": [
    "### Estudio"
   ]
  },
  {
   "cell_type": "markdown",
   "metadata": {},
   "source": [
    "- La **mecanica** es una rama de las ciencias físicas que se ocupa del estado de reposo o movimiento de cuerpos sometidos a la acción de fuerzas.\n",
    "- La **estatica** es el estudio de los cuerpos en equilibrio, ya sea en reposo o en movimiento a velocidad constante.\n",
    "- La **dinamica** es el estudio de los cuerpos en movimiento con velocidad variable o sometidos a una aceleración.\n",
    "- La **cinetica** es el estudio y analisis de las fuerzas que causan el movimiento.\n",
    "- La **cinematica** es el estudio de los aspectos geometricos del movimiento a travez del tiempo."
   ]
  },
  {
   "cell_type": "markdown",
   "metadata": {},
   "source": [
    "### Clasificacion Movimiento"
   ]
  },
  {
   "cell_type": "markdown",
   "metadata": {},
   "source": [
    "En el caso de un cuerpo rigido existen los siguientes tipos de movimientos:\n",
    "\n",
    "1. **Traslación Rectilinea**: Los vectores de desplazamiento son paralelos.\n",
    "2. **Traslación Curvilinea**: El desplazamiento no es paralelo pero su orientacion si.\n",
    "3. **Rotacion Alrededor de un Eje Fijo**: El objeto no se desplaza pero si su orientacion.\n",
    "4. **Movimiento Plano General**: Existe un desplazamiento paralelo y de orientacion."
   ]
  },
  {
   "cell_type": "markdown",
   "metadata": {},
   "source": [
    "### Traslación"
   ]
  },
  {
   "cell_type": "markdown",
   "metadata": {},
   "source": [
    "Traslación: Movimiento si cada segmento de linea permanece paralelo durante el movimiento.\n",
    "\n",
    "**Posición**: Para cualquier par de particulas en un cuerpo rigido: \n",
    "\n",
    "\\begin{gathered}\n",
    "    \\vec{r_B} = \\vec{r_A} + \\vec{r_{B/A}}\\\\\n",
    "\\end{gathered}\n",
    "\n",
    "**Velocidad**: Cambio de posicion con respecto al tiempo. En el cuerpo rigido todas las particulas tienen la misma velocidad:\n",
    "\n",
    "\\begin{gathered}\n",
    "    \\dot{\\vec{r_B}} = \\dot{\\vec{r_A}} + \\dot{\\vec{r_{B/A}}} = \\dot{\\vec{r_A}}\\\\\n",
    "    \\vec{v_B} = \\vec{v_A}\n",
    "\\end{gathered}\n",
    "\n",
    "**Aceleración**: Cambio de velocidad con respecto al tiempo. En el cuerpo rigido todas las particulas tienen la misma aceleración:\n",
    "\n",
    "\\begin{gathered}\n",
    "    \\ddot{\\vec{r_B}} = \\ddot{\\vec{r_A}} + \\ddot{\\vec{r_{B/A}}} = \\ddot{\\vec{r_A}}\\\\\n",
    "    \\vec{a_B} = \\vec{a_A}\n",
    "\\end{gathered}"
   ]
  },
  {
   "cell_type": "markdown",
   "metadata": {},
   "source": [
    "### Rotación Alrededor de un Eje Fijo"
   ]
  },
  {
   "cell_type": "markdown",
   "metadata": {},
   "source": [
    "Rotación alrededor de un eje fijo: Cualquier punto del cuerpo se desplaza en una trayectoria circular, sin embargo NO experimenta movimiento angular, solo las lineas o cuerpos lo hacen.\n",
    "\n",
    "1. **Posición Angular**: La posicion angular (r) esta definida por $(\\theta)$ desde el origen.\n",
    "2. **Desplazamiento angular**: Cambio de la posición angular, diferencial $d(\\theta)$ en grados, radianes o revoluciones (1rev = 2pirad).\n",
    "3. **Velocidad angular**: Cambio de la posición angular con respecto al tiempo, $\\frac{d\\theta}{dt}=\\omega$. \n",
    "4. **Aceleracion angular**: Cambio de la velocidad angular con respecto al tiempo, $\\frac{d\\omega}{dt}=\\frac{d^2\\theta}{dt^2}=\\alpha$."
   ]
  },
  {
   "cell_type": "markdown",
   "metadata": {},
   "source": [
    "### Movimiento Angular "
   ]
  },
  {
   "cell_type": "markdown",
   "metadata": {},
   "source": [
    "Movimiento Angular: Podemos despejar (dt) y obtener una ecuacion que relaciona aceleracion, velocidad y desplazamiento angular.\n",
    "\n",
    "\\begin{gathered}\n",
    "    \\omega = \\frac{d\\theta(t)}{dt} \\implies \\alpha d \\theta=\\omega d w\\\\\n",
    "    \\alpha(d\\theta) = \\omega(d\\omega)\\\\\n",
    "    \\text{Con aceleracion angular constante}\\\\\n",
    "    \\omega = \\omega_o + \\alpha_c(t)\\\\\n",
    "    \\theta = \\theta_o + \\omega_o(t) + (0.5)(\\alpha_c)(t^2)\\\\\n",
    "    \\omega^2 = \\omega_o^2 + 2\\alpha_c(\\theta - \\theta_o)\n",
    "\\end{gathered}\n",
    "\n",
    "Posicion del Punto (P): Dada por (r), si su cuerpo se desplaza $d(\\theta)$ entonces el punto se desplazara en un arco dado por $ds = d(\\theta)(r)$.\n",
    "\n",
    "Velocidad del punto (P): Vector tangente a la trayectoria circular cuya magnitud se calcula al dividir el desplazamiento entre (dt) es decir:\n",
    "\n",
    "\\begin{gathered}\n",
    "    \\frac{ds}{dt} = \\frac{d(\\theta)(r)}{dt}\\\\\n",
    "    v=\\frac{d(\\theta)}{dt}(r) \\implies v=(\\omega)(r)\n",
    "\\end{gathered}\n",
    "\n",
    "No es necesario utilizar (r) para obtener la velocidad. Podemos utilizar cualquier $r_P$ que inicie en el eje de rotación y un producto vectorial. $v=(\\omega)\\times(r_P)$\n",
    "\n",
    "Aceleracion del punto (P): Se puede expresar mediante sus componentes normales y tangenciales. El componente tangencial representa el cambio de la magnitud de la velocidad a travez del tiempo. El componente normal representa el cambio de la dirección de la velocidad a travez del tiempo, mientras que su propia dirección apunta siempre al origen.\n",
    "\n",
    "\\begin{gathered}\n",
    "    a_t=\\frac{dv}{dt} \\land a_n=\\frac{v^2}{r}\\\\\n",
    "    v=(\\omega)(r) \\land \\alpha = \\frac{d\\omega}{dt}\\\\\n",
    "    a_t=\\alpha(r) \\land a_n=\\omega^2(r)\n",
    "\\end{gathered}\n",
    "\n",
    "Al igual que la velocidad ($v=(\\omega)\\times(r_P)$), la aceleración del punto se puede expresar en funcion de un producto vectorial.\n",
    "\n",
    "\\begin{gathered}\n",
    "    \\text{Suma de los componentes de a}\\\\\n",
    "    a  = (\\frac{d\\omega}{dt} \\times r_P) + (\\omega \\times \\frac{dr_P}{dt})\\\\\n",
    "    v = (\\omega)\\times(r_P) = \\frac{dr_P}{dt}\\\\\n",
    "    a = (\\alpha \\times r_P) + (\\omega \\times ((\\omega)\\times(r_P)))\\\\\n",
    "    a = (\\alpha \\times r_P) +((\\omega^2)(r_P)) \\implies a = a_t + a_n\\\\\n",
    "\\end{gathered}\n",
    "\n",
    "Dado de que a_n y a_t son perpendiculares se puede obtener la magnitud de la aceleracion mediante el teorema de pitagoras $a=\\sqrt{a_t^2 + a_n^2}$"
   ]
  },
  {
   "cell_type": "markdown",
   "metadata": {},
   "source": [
    "Ejemplo: \n",
    "\n",
    "Un motor genera en las aspas $\\alpha = 20e^{-0.6t}\\text{rad/s2}$. Calcular rapidez con t=3 y revoluciones totales en ese intervalo si r = (1.75ft). Note que la rapidez simplemente es la magnitud de la velocidad angular.\n",
    "\n",
    "\\begin{gathered}\n",
    "    \\alpha = \\frac{d\\omega}{dt} \\implies \\alpha(dt) = d\\omega\\\\\n",
    "    \\int_{0}^{\\omega} d\\omega = \\int_{0}^{t} 20e^{-0.6t} dt\\\\\n",
    "    \\text{Quitamos el diferencial mediante integración}\\\\\n",
    "    \\omega = -\\frac{20}{0.6}(e^{-0.6t})\\Big|_0^t = 33.3(1-e^{-0.6t})\\\\\n",
    "    \\omega = 27.82 \\text{ rad/s}\\\\\n",
    "    v = \\omega(r) = 27.82(1.75) = 48.7 \\text{ ft/s}\\\\\n",
    "    \\omega = \\frac{d\\theta}{dt} \\implies \\omega(dt) = d\\theta\\\\\n",
    "    \\int_{0}^{\\theta} d\\theta = \\int_{0}^{t} 33.3(1-e^{-0.6t}) dt\\\\\n",
    "    \\theta = 33.3(t+\\frac{1}{0.6}(e^{-0.6t})\\Big|_0^3 = 33.3(3+\\frac{1}{0.6}(e^{-0.6(3)}-1))\\\\\n",
    "    \\theta = 53.63 \\text{ rad} = 8.54 \\text{ rev}\n",
    "\\end{gathered}"
   ]
  },
  {
   "cell_type": "markdown",
   "metadata": {},
   "source": [
    "Ejemplo:\n",
    "\n",
    "Un motor gira un engrane A con una aceleracion constante de $\\alpha_A = 4.5\\text{ rad/s2}$ desde el reposo. Velocidad del cilindro C y la distancia que recorre en 3 segundos. La cuerda se enrolla en D fijo al engrane B.\n",
    "\n",
    "- La aceleracion angular de B y D esta relacionada con la aceleracion angular de A.\n",
    "\n",
    "\\begin{gathered}\n",
    "    a_t = \\alpha_A(r_A) = \\alpha_B(r_B) \\implies (4.5)(75) = \\alpha_B(225) \\implies \\alpha_B = 1.5\\text{ rad\\s2}\\\\\n",
    "    \\alpha_D = \\alpha_B = 1.5\\text{ rad\\s2}\\\\\n",
    "\\end{gathered}\n",
    "\n",
    "- La aceleracion de C se determina mediante el movimiento de un punto alrededor de un eje.\n",
    "\n",
    "\\begin{gathered}\n",
    "    a_c = (a_t)_D = \\alpha_D(r_D) = (1.5)(0.125) = 0.1875 \\text{ m/s2}\n",
    "\\end{gathered}\n",
    "\n",
    "- La velocidad y distancia de C se pueden encontrar mediante ecuacion de a constante.\n",
    "\n",
    "\\begin{gathered}\n",
    "    v_c = v_o + \\alpha_c(t) = 0+0.1875(3) = 0.563 \\text{m/s}\\\\\n",
    "    s_c = s_o + v_o(t) + (0.5)a_c(t^2) = 0+0+(0.5)0.1875(3)^2 = 0.844 \\text{m}\n",
    "\\end{gathered}"
   ]
  },
  {
   "cell_type": "markdown",
   "metadata": {},
   "source": []
  },
  {
   "cell_type": "markdown",
   "metadata": {},
   "source": []
  },
  {
   "cell_type": "markdown",
   "metadata": {},
   "source": []
  },
  {
   "cell_type": "markdown",
   "metadata": {},
   "source": []
  },
  {
   "cell_type": "markdown",
   "metadata": {},
   "source": []
  },
  {
   "cell_type": "markdown",
   "metadata": {},
   "source": []
  },
  {
   "cell_type": "markdown",
   "metadata": {},
   "source": []
  },
  {
   "cell_type": "markdown",
   "metadata": {},
   "source": []
  },
  {
   "cell_type": "markdown",
   "metadata": {},
   "source": []
  },
  {
   "cell_type": "markdown",
   "metadata": {},
   "source": [
    "En el caso de una particula que se mueve rectilineamente con masa pero tamaño y forma negligible se describe por su posición, velocidad y aceleración en cualquier instante.\n",
    "\n",
    "La **posición** es un escalar con direccion sobre la linea (s). El desplazamiento es el cambio de posicion.\n",
    "\n",
    "La cinematica de una particula que se mueve en forma rectilinea por un camino. Masa pero tamaño y forma negligible.\n",
    "\n",
    "La cinematica aqui se describe por la posicion, velocidad y aceleracion de la particula en cualquier instante.\n",
    "\n",
    "Posicion: Escalar con direccion sobre un eje.\n",
    "\n",
    "Displacement: Cambio en posicion. Delta s = sprima - s\n",
    "sfinal - s inicial.\n",
    "\n",
    "Velocidad : Si existe un displacement en un cambio de tiempo, la velocidad promedio es su razon.\n",
    "V avg = DELTA S / Delta t\n",
    "\n",
    "Cuando el limite de Dleta t se acerca a 0 tenemos la velocidad instantanea.\n",
    "\n",
    "v = lim t-Z0 (Delta s / Delta t)\n",
    "v = ds / dt\n",
    "\n",
    "dado que delta t es siempre positivo el signo lo define ds\n",
    "La magnitud de el vector velocidad se denomina rapidez\n",
    "El valor absolto de la rapiez se denomina velocidad promedio.\n",
    "\n",
    "(Vsp) avg = (Total distance traveled) /Delta t\n",
    "\n",
    "Si la velocidad se conoce en dos pntos podemos obtener la aceleracion promedio como la pendiente entre su recta.\n",
    "\n",
    "A ) avg = Delta v / Delta t\n",
    "\n",
    "La aceleracion intantanea en (t) es un vector obtendo al tomar \n",
    "Delta t como limite a cero.\n",
    "\n",
    "a = lim dT - 0 (Deltav/Deltat) = dv/dt\n",
    "\n",
    "a = d^2s/dt^2\n",
    "\n",
    "Tanto la aceleracion instantaea o proedio puede ser positiva o negativa. Si la particula disminuye su velocidad la aceleracion disminuye o desacelera. Si la velocidad es constante la aceleracion es cero.\n",
    "\n",
    "Si quitamos el cambio de tiempo obtenemos la relacion\n",
    "\n",
    "a*ds = v*dv\n",
    "\n",
    "Si la aceleracion es constante las tres ecuaciones puden ser integradas para obtener las formulas que relacionan Ac, v, s y t\n",
    "\n",
    "ac = dv/dt\n",
    "v = ds/dt\n",
    "Ac(ds) = vdv\n"
   ]
  }
 ],
 "metadata": {
  "kernelspec": {
   "display_name": "Python 3",
   "language": "python",
   "name": "python3"
  },
  "language_info": {
   "codemirror_mode": {
    "name": "ipython",
    "version": 3
   },
   "file_extension": ".py",
   "mimetype": "text/x-python",
   "name": "python",
   "nbconvert_exporter": "python",
   "pygments_lexer": "ipython3",
   "version": "3.7.1"
  }
 },
 "nbformat": 4,
 "nbformat_minor": 2
}
