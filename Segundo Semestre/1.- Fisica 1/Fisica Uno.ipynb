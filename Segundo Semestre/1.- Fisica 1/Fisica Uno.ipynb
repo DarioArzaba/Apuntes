{
 "cells": [
  {
   "cell_type": "markdown",
   "metadata": {},
   "source": [
    "# Fisica"
   ]
  },
  {
   "cell_type": "markdown",
   "metadata": {},
   "source": [
    "## Unidades Trigonometria y Vectores"
   ]
  },
  {
   "cell_type": "markdown",
   "metadata": {},
   "source": [
    "Todas las unidades fisicas se pueden construir a partir de la Longitud [L], Masa [M] y Tiempo [T]. Un sistema de unidades es un archivo con distintas definiciones para estas dimenciones. El sistema internacional define al Metro, Kilogramo y Segundo.\n",
    "\n",
    "Los atomos constituyen la materia, se componen de Protones, Neutrones y Electrones. Las particulas subatomicas se componen de Quarks: Up, Down, Strange, Charm, Bottom, Top. Así un proton es Up, Up Down o un neutrón es Down, Down, Up.\n",
    "\n",
    "La dimensión en fisica es la naturaleza fisica de una cantidad. $[v] = \\frac{L}{T}$ en donde las unidades pueden cambiar pero la dimensión es la misma. El analisis dimencional aprovecha que las dimenciones se pueden manipular algebraicamente. Un analisis dimencional es el primer paso para verificar la veracidad de una ecuacion.\n",
    "\n",
    "Las leyes matematicas de la fisica deben explicar siempre las observaciones de la naturaleza y su experimentación. Sin embargo es necesario medir la realidad de estos experimentos hasta reducirlos a cantidades numericas, dado que todo instrumento de medicion siempre tendra una precisión y exactitud limitados entonces siempre existira un margen de error.\n",
    "\n",
    "En el trabajo experimental se usan cifras significativas mediante estadistica. \n",
    "\n",
    "1. El numero de cifras significativas despues despues de realizar una multiplicacion o divicion es el numero de cifras del factor menos preciso, es decir el que tenga menos cifras.\n",
    "2. El numero de cifras significativas despues de una suma o una resta es el numero de digitos decimales del termino con la menor cantidad de decimales.\n",
    "\n",
    "Para convertir de un sistema de unidades a otro se multiplica la medición por un factor de equivalencia. En la vida real las estimaciones a veces son suficientes o necesarias.\n",
    "\n",
    "Un sistema de coordenadas es la representacion del espacio en donde los ejes representan la longitud. Todo sistema necesita de un punto de referencia u origen. Todo punto en el espacio posterior se puede localizar con respecto al origen.\n",
    "\n",
    "1. Sistema rectangular de coordenadas (x,y).\n",
    "2. Sistema plano polar de coordenadas (r, theta).\n",
    "\n",
    "\\begin{gathered}\n",
    "    \\text{Para un triangulo rectangulo en el espacio}\\\\\n",
    "    \\sin(\\theta) = \\frac{y}{r} \\quad \\cos(\\theta) = \\frac{x}{r} \\quad \\tan(\\theta) = \\frac{y}{x}\\\\\n",
    "    r^2 = x^2+y^2 \\quad y = \\sin(\\theta r) \\quad x = \\cos(\\theta r)\n",
    "\\end{gathered}"
   ]
  },
  {
   "cell_type": "markdown",
   "metadata": {},
   "source": []
  },
  {
   "cell_type": "markdown",
   "metadata": {},
   "source": []
  },
  {
   "cell_type": "markdown",
   "metadata": {},
   "source": []
  },
  {
   "cell_type": "markdown",
   "metadata": {},
   "source": []
  },
  {
   "cell_type": "markdown",
   "metadata": {},
   "source": []
  },
  {
   "cell_type": "markdown",
   "metadata": {},
   "source": []
  }
 ],
 "metadata": {
  "kernelspec": {
   "display_name": "Python 3",
   "language": "python",
   "name": "python3"
  },
  "language_info": {
   "codemirror_mode": {
    "name": "ipython",
    "version": 3
   },
   "file_extension": ".py",
   "mimetype": "text/x-python",
   "name": "python",
   "nbconvert_exporter": "python",
   "pygments_lexer": "ipython3",
   "version": "3.7.1"
  }
 },
 "nbformat": 4,
 "nbformat_minor": 2
}
